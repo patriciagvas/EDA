{
  "nbformat": 4,
  "nbformat_minor": 0,
  "metadata": {
    "colab": {
      "provenance": [],
      "mount_file_id": "1EHkupjK21IK3Az-OWlENQK4lnYD92yu8",
      "authorship_tag": "ABX9TyMEJzCZUseHNEN2HVbfcCz2"
    },
    "kernelspec": {
      "name": "python3",
      "display_name": "Python 3"
    },
    "language_info": {
      "name": "python"
    }
  },
  "cells": [
    {
      "cell_type": "markdown",
      "source": [
        "Análise de dados de emissões de gases no Brasil por atividade no período de 2010 a 2019.\n",
        "A base de dados foi obtida no site https://basedosdados.org/."
      ],
      "metadata": {
        "id": "EcwPbqE_BI8v"
      }
    },
    {
      "cell_type": "code",
      "source": [
        "import pandas as pd\n",
        "import matplotlib.pyplot as plt\n",
        "import seaborn as sns"
      ],
      "metadata": {
        "id": "MfRhzy199Qj5"
      },
      "execution_count": null,
      "outputs": []
    },
    {
      "cell_type": "code",
      "source": [
        "emissoes_df = pd.read_csv('/content/drive/MyDrive/PROJETOS EDA/br_seeg_emissoes_brasil.csv')\n",
        "emissoes_df.head()"
      ],
      "metadata": {
        "colab": {
          "base_uri": "https://localhost:8080/",
          "height": 206
        },
        "id": "mfJsjkZF_aRg",
        "outputId": "510d939c-79f3-444c-91f9-71d47d991244"
      },
      "execution_count": null,
      "outputs": [
        {
          "output_type": "execute_result",
          "data": {
            "text/plain": [
              "    ano       nivel_1           nivel_2  nivel_3 nivel_4  nivel_5 nivel_6  \\\n",
              "0  1970  Agropecuária  Cultivo do Arroz  Diretas  Outros  Vegetal   Arroz   \n",
              "1  1971  Agropecuária  Cultivo do Arroz  Diretas  Outros  Vegetal   Arroz   \n",
              "2  1972  Agropecuária  Cultivo do Arroz  Diretas  Outros  Vegetal   Arroz   \n",
              "3  1973  Agropecuária  Cultivo do Arroz  Diretas  Outros  Vegetal   Arroz   \n",
              "4  1974  Agropecuária  Cultivo do Arroz  Diretas  Outros  Vegetal   Arroz   \n",
              "\n",
              "  tipo_emissao      gas atividade_economica produto    emissao  \n",
              "0      Emissão  CH4 (t)                 NaN     NaN  230462.17  \n",
              "1      Emissão  CH4 (t)                 NaN     NaN  226016.30  \n",
              "2      Emissão  CH4 (t)                 NaN     NaN  220101.20  \n",
              "3      Emissão  CH4 (t)                 NaN     NaN  214195.56  \n",
              "4      Emissão  CH4 (t)                 NaN     NaN  186862.84  "
            ],
            "text/html": [
              "\n",
              "  <div id=\"df-947fe1c9-1cbe-4fda-bd63-c8dfd40c1336\" class=\"colab-df-container\">\n",
              "    <div>\n",
              "<style scoped>\n",
              "    .dataframe tbody tr th:only-of-type {\n",
              "        vertical-align: middle;\n",
              "    }\n",
              "\n",
              "    .dataframe tbody tr th {\n",
              "        vertical-align: top;\n",
              "    }\n",
              "\n",
              "    .dataframe thead th {\n",
              "        text-align: right;\n",
              "    }\n",
              "</style>\n",
              "<table border=\"1\" class=\"dataframe\">\n",
              "  <thead>\n",
              "    <tr style=\"text-align: right;\">\n",
              "      <th></th>\n",
              "      <th>ano</th>\n",
              "      <th>nivel_1</th>\n",
              "      <th>nivel_2</th>\n",
              "      <th>nivel_3</th>\n",
              "      <th>nivel_4</th>\n",
              "      <th>nivel_5</th>\n",
              "      <th>nivel_6</th>\n",
              "      <th>tipo_emissao</th>\n",
              "      <th>gas</th>\n",
              "      <th>atividade_economica</th>\n",
              "      <th>produto</th>\n",
              "      <th>emissao</th>\n",
              "    </tr>\n",
              "  </thead>\n",
              "  <tbody>\n",
              "    <tr>\n",
              "      <th>0</th>\n",
              "      <td>1970</td>\n",
              "      <td>Agropecuária</td>\n",
              "      <td>Cultivo do Arroz</td>\n",
              "      <td>Diretas</td>\n",
              "      <td>Outros</td>\n",
              "      <td>Vegetal</td>\n",
              "      <td>Arroz</td>\n",
              "      <td>Emissão</td>\n",
              "      <td>CH4 (t)</td>\n",
              "      <td>NaN</td>\n",
              "      <td>NaN</td>\n",
              "      <td>230462.17</td>\n",
              "    </tr>\n",
              "    <tr>\n",
              "      <th>1</th>\n",
              "      <td>1971</td>\n",
              "      <td>Agropecuária</td>\n",
              "      <td>Cultivo do Arroz</td>\n",
              "      <td>Diretas</td>\n",
              "      <td>Outros</td>\n",
              "      <td>Vegetal</td>\n",
              "      <td>Arroz</td>\n",
              "      <td>Emissão</td>\n",
              "      <td>CH4 (t)</td>\n",
              "      <td>NaN</td>\n",
              "      <td>NaN</td>\n",
              "      <td>226016.30</td>\n",
              "    </tr>\n",
              "    <tr>\n",
              "      <th>2</th>\n",
              "      <td>1972</td>\n",
              "      <td>Agropecuária</td>\n",
              "      <td>Cultivo do Arroz</td>\n",
              "      <td>Diretas</td>\n",
              "      <td>Outros</td>\n",
              "      <td>Vegetal</td>\n",
              "      <td>Arroz</td>\n",
              "      <td>Emissão</td>\n",
              "      <td>CH4 (t)</td>\n",
              "      <td>NaN</td>\n",
              "      <td>NaN</td>\n",
              "      <td>220101.20</td>\n",
              "    </tr>\n",
              "    <tr>\n",
              "      <th>3</th>\n",
              "      <td>1973</td>\n",
              "      <td>Agropecuária</td>\n",
              "      <td>Cultivo do Arroz</td>\n",
              "      <td>Diretas</td>\n",
              "      <td>Outros</td>\n",
              "      <td>Vegetal</td>\n",
              "      <td>Arroz</td>\n",
              "      <td>Emissão</td>\n",
              "      <td>CH4 (t)</td>\n",
              "      <td>NaN</td>\n",
              "      <td>NaN</td>\n",
              "      <td>214195.56</td>\n",
              "    </tr>\n",
              "    <tr>\n",
              "      <th>4</th>\n",
              "      <td>1974</td>\n",
              "      <td>Agropecuária</td>\n",
              "      <td>Cultivo do Arroz</td>\n",
              "      <td>Diretas</td>\n",
              "      <td>Outros</td>\n",
              "      <td>Vegetal</td>\n",
              "      <td>Arroz</td>\n",
              "      <td>Emissão</td>\n",
              "      <td>CH4 (t)</td>\n",
              "      <td>NaN</td>\n",
              "      <td>NaN</td>\n",
              "      <td>186862.84</td>\n",
              "    </tr>\n",
              "  </tbody>\n",
              "</table>\n",
              "</div>\n",
              "    <div class=\"colab-df-buttons\">\n",
              "\n",
              "  <div class=\"colab-df-container\">\n",
              "    <button class=\"colab-df-convert\" onclick=\"convertToInteractive('df-947fe1c9-1cbe-4fda-bd63-c8dfd40c1336')\"\n",
              "            title=\"Convert this dataframe to an interactive table.\"\n",
              "            style=\"display:none;\">\n",
              "\n",
              "  <svg xmlns=\"http://www.w3.org/2000/svg\" height=\"24px\" viewBox=\"0 -960 960 960\">\n",
              "    <path d=\"M120-120v-720h720v720H120Zm60-500h600v-160H180v160Zm220 220h160v-160H400v160Zm0 220h160v-160H400v160ZM180-400h160v-160H180v160Zm440 0h160v-160H620v160ZM180-180h160v-160H180v160Zm440 0h160v-160H620v160Z\"/>\n",
              "  </svg>\n",
              "    </button>\n",
              "\n",
              "  <style>\n",
              "    .colab-df-container {\n",
              "      display:flex;\n",
              "      gap: 12px;\n",
              "    }\n",
              "\n",
              "    .colab-df-convert {\n",
              "      background-color: #E8F0FE;\n",
              "      border: none;\n",
              "      border-radius: 50%;\n",
              "      cursor: pointer;\n",
              "      display: none;\n",
              "      fill: #1967D2;\n",
              "      height: 32px;\n",
              "      padding: 0 0 0 0;\n",
              "      width: 32px;\n",
              "    }\n",
              "\n",
              "    .colab-df-convert:hover {\n",
              "      background-color: #E2EBFA;\n",
              "      box-shadow: 0px 1px 2px rgba(60, 64, 67, 0.3), 0px 1px 3px 1px rgba(60, 64, 67, 0.15);\n",
              "      fill: #174EA6;\n",
              "    }\n",
              "\n",
              "    .colab-df-buttons div {\n",
              "      margin-bottom: 4px;\n",
              "    }\n",
              "\n",
              "    [theme=dark] .colab-df-convert {\n",
              "      background-color: #3B4455;\n",
              "      fill: #D2E3FC;\n",
              "    }\n",
              "\n",
              "    [theme=dark] .colab-df-convert:hover {\n",
              "      background-color: #434B5C;\n",
              "      box-shadow: 0px 1px 3px 1px rgba(0, 0, 0, 0.15);\n",
              "      filter: drop-shadow(0px 1px 2px rgba(0, 0, 0, 0.3));\n",
              "      fill: #FFFFFF;\n",
              "    }\n",
              "  </style>\n",
              "\n",
              "    <script>\n",
              "      const buttonEl =\n",
              "        document.querySelector('#df-947fe1c9-1cbe-4fda-bd63-c8dfd40c1336 button.colab-df-convert');\n",
              "      buttonEl.style.display =\n",
              "        google.colab.kernel.accessAllowed ? 'block' : 'none';\n",
              "\n",
              "      async function convertToInteractive(key) {\n",
              "        const element = document.querySelector('#df-947fe1c9-1cbe-4fda-bd63-c8dfd40c1336');\n",
              "        const dataTable =\n",
              "          await google.colab.kernel.invokeFunction('convertToInteractive',\n",
              "                                                    [key], {});\n",
              "        if (!dataTable) return;\n",
              "\n",
              "        const docLinkHtml = 'Like what you see? Visit the ' +\n",
              "          '<a target=\"_blank\" href=https://colab.research.google.com/notebooks/data_table.ipynb>data table notebook</a>'\n",
              "          + ' to learn more about interactive tables.';\n",
              "        element.innerHTML = '';\n",
              "        dataTable['output_type'] = 'display_data';\n",
              "        await google.colab.output.renderOutput(dataTable, element);\n",
              "        const docLink = document.createElement('div');\n",
              "        docLink.innerHTML = docLinkHtml;\n",
              "        element.appendChild(docLink);\n",
              "      }\n",
              "    </script>\n",
              "  </div>\n",
              "\n",
              "\n",
              "<div id=\"df-3a96d5a3-b0a9-47f4-ae03-7e402af29aa3\">\n",
              "  <button class=\"colab-df-quickchart\" onclick=\"quickchart('df-3a96d5a3-b0a9-47f4-ae03-7e402af29aa3')\"\n",
              "            title=\"Suggest charts\"\n",
              "            style=\"display:none;\">\n",
              "\n",
              "<svg xmlns=\"http://www.w3.org/2000/svg\" height=\"24px\"viewBox=\"0 0 24 24\"\n",
              "     width=\"24px\">\n",
              "    <g>\n",
              "        <path d=\"M19 3H5c-1.1 0-2 .9-2 2v14c0 1.1.9 2 2 2h14c1.1 0 2-.9 2-2V5c0-1.1-.9-2-2-2zM9 17H7v-7h2v7zm4 0h-2V7h2v10zm4 0h-2v-4h2v4z\"/>\n",
              "    </g>\n",
              "</svg>\n",
              "  </button>\n",
              "\n",
              "<style>\n",
              "  .colab-df-quickchart {\n",
              "      --bg-color: #E8F0FE;\n",
              "      --fill-color: #1967D2;\n",
              "      --hover-bg-color: #E2EBFA;\n",
              "      --hover-fill-color: #174EA6;\n",
              "      --disabled-fill-color: #AAA;\n",
              "      --disabled-bg-color: #DDD;\n",
              "  }\n",
              "\n",
              "  [theme=dark] .colab-df-quickchart {\n",
              "      --bg-color: #3B4455;\n",
              "      --fill-color: #D2E3FC;\n",
              "      --hover-bg-color: #434B5C;\n",
              "      --hover-fill-color: #FFFFFF;\n",
              "      --disabled-bg-color: #3B4455;\n",
              "      --disabled-fill-color: #666;\n",
              "  }\n",
              "\n",
              "  .colab-df-quickchart {\n",
              "    background-color: var(--bg-color);\n",
              "    border: none;\n",
              "    border-radius: 50%;\n",
              "    cursor: pointer;\n",
              "    display: none;\n",
              "    fill: var(--fill-color);\n",
              "    height: 32px;\n",
              "    padding: 0;\n",
              "    width: 32px;\n",
              "  }\n",
              "\n",
              "  .colab-df-quickchart:hover {\n",
              "    background-color: var(--hover-bg-color);\n",
              "    box-shadow: 0 1px 2px rgba(60, 64, 67, 0.3), 0 1px 3px 1px rgba(60, 64, 67, 0.15);\n",
              "    fill: var(--button-hover-fill-color);\n",
              "  }\n",
              "\n",
              "  .colab-df-quickchart-complete:disabled,\n",
              "  .colab-df-quickchart-complete:disabled:hover {\n",
              "    background-color: var(--disabled-bg-color);\n",
              "    fill: var(--disabled-fill-color);\n",
              "    box-shadow: none;\n",
              "  }\n",
              "\n",
              "  .colab-df-spinner {\n",
              "    border: 2px solid var(--fill-color);\n",
              "    border-color: transparent;\n",
              "    border-bottom-color: var(--fill-color);\n",
              "    animation:\n",
              "      spin 1s steps(1) infinite;\n",
              "  }\n",
              "\n",
              "  @keyframes spin {\n",
              "    0% {\n",
              "      border-color: transparent;\n",
              "      border-bottom-color: var(--fill-color);\n",
              "      border-left-color: var(--fill-color);\n",
              "    }\n",
              "    20% {\n",
              "      border-color: transparent;\n",
              "      border-left-color: var(--fill-color);\n",
              "      border-top-color: var(--fill-color);\n",
              "    }\n",
              "    30% {\n",
              "      border-color: transparent;\n",
              "      border-left-color: var(--fill-color);\n",
              "      border-top-color: var(--fill-color);\n",
              "      border-right-color: var(--fill-color);\n",
              "    }\n",
              "    40% {\n",
              "      border-color: transparent;\n",
              "      border-right-color: var(--fill-color);\n",
              "      border-top-color: var(--fill-color);\n",
              "    }\n",
              "    60% {\n",
              "      border-color: transparent;\n",
              "      border-right-color: var(--fill-color);\n",
              "    }\n",
              "    80% {\n",
              "      border-color: transparent;\n",
              "      border-right-color: var(--fill-color);\n",
              "      border-bottom-color: var(--fill-color);\n",
              "    }\n",
              "    90% {\n",
              "      border-color: transparent;\n",
              "      border-bottom-color: var(--fill-color);\n",
              "    }\n",
              "  }\n",
              "</style>\n",
              "\n",
              "  <script>\n",
              "    async function quickchart(key) {\n",
              "      const quickchartButtonEl =\n",
              "        document.querySelector('#' + key + ' button');\n",
              "      quickchartButtonEl.disabled = true;  // To prevent multiple clicks.\n",
              "      quickchartButtonEl.classList.add('colab-df-spinner');\n",
              "      try {\n",
              "        const charts = await google.colab.kernel.invokeFunction(\n",
              "            'suggestCharts', [key], {});\n",
              "      } catch (error) {\n",
              "        console.error('Error during call to suggestCharts:', error);\n",
              "      }\n",
              "      quickchartButtonEl.classList.remove('colab-df-spinner');\n",
              "      quickchartButtonEl.classList.add('colab-df-quickchart-complete');\n",
              "    }\n",
              "    (() => {\n",
              "      let quickchartButtonEl =\n",
              "        document.querySelector('#df-3a96d5a3-b0a9-47f4-ae03-7e402af29aa3 button');\n",
              "      quickchartButtonEl.style.display =\n",
              "        google.colab.kernel.accessAllowed ? 'block' : 'none';\n",
              "    })();\n",
              "  </script>\n",
              "</div>\n",
              "\n",
              "    </div>\n",
              "  </div>\n"
            ],
            "application/vnd.google.colaboratory.intrinsic+json": {
              "type": "dataframe",
              "variable_name": "emissoes_df"
            }
          },
          "metadata": {},
          "execution_count": 163
        }
      ]
    },
    {
      "cell_type": "code",
      "source": [
        "emissoes_df.info()"
      ],
      "metadata": {
        "colab": {
          "base_uri": "https://localhost:8080/"
        },
        "id": "3Okj8zHk_qYv",
        "outputId": "6dd75ba1-076b-48c1-bf4a-20213a9eeed7"
      },
      "execution_count": null,
      "outputs": [
        {
          "output_type": "stream",
          "name": "stdout",
          "text": [
            "<class 'pandas.core.frame.DataFrame'>\n",
            "RangeIndex: 454850 entries, 0 to 454849\n",
            "Data columns (total 12 columns):\n",
            " #   Column               Non-Null Count   Dtype  \n",
            "---  ------               --------------   -----  \n",
            " 0   ano                  454850 non-null  int64  \n",
            " 1   nivel_1              454850 non-null  object \n",
            " 2   nivel_2              454850 non-null  object \n",
            " 3   nivel_3              454850 non-null  object \n",
            " 4   nivel_4              454850 non-null  object \n",
            " 5   nivel_5              454850 non-null  object \n",
            " 6   nivel_6              454850 non-null  object \n",
            " 7   tipo_emissao         454850 non-null  object \n",
            " 8   gas                  454850 non-null  object \n",
            " 9   atividade_economica  453100 non-null  object \n",
            " 10  produto              268100 non-null  object \n",
            " 11  emissao              406325 non-null  float64\n",
            "dtypes: float64(1), int64(1), object(10)\n",
            "memory usage: 41.6+ MB\n"
          ]
        }
      ]
    },
    {
      "cell_type": "code",
      "source": [
        "emissoes_df.shape"
      ],
      "metadata": {
        "colab": {
          "base_uri": "https://localhost:8080/"
        },
        "id": "KsZk_muD_592",
        "outputId": "65fe1d41-9cb0-4dad-a7cd-ddfad80545ed"
      },
      "execution_count": null,
      "outputs": [
        {
          "output_type": "execute_result",
          "data": {
            "text/plain": [
              "(454850, 12)"
            ]
          },
          "metadata": {},
          "execution_count": 105
        }
      ]
    },
    {
      "cell_type": "code",
      "source": [
        "emissoes_df.dtypes"
      ],
      "metadata": {
        "colab": {
          "base_uri": "https://localhost:8080/",
          "height": 460
        },
        "id": "4MjmRNdu_8oA",
        "outputId": "fcd6bda2-9728-402c-89b1-91613a75d43d"
      },
      "execution_count": null,
      "outputs": [
        {
          "output_type": "execute_result",
          "data": {
            "text/plain": [
              "ano                      int64\n",
              "nivel_1                 object\n",
              "nivel_2                 object\n",
              "nivel_3                 object\n",
              "nivel_4                 object\n",
              "nivel_5                 object\n",
              "nivel_6                 object\n",
              "tipo_emissao            object\n",
              "gas                     object\n",
              "atividade_economica     object\n",
              "produto                 object\n",
              "emissao                float64\n",
              "dtype: object"
            ],
            "text/html": [
              "<div>\n",
              "<style scoped>\n",
              "    .dataframe tbody tr th:only-of-type {\n",
              "        vertical-align: middle;\n",
              "    }\n",
              "\n",
              "    .dataframe tbody tr th {\n",
              "        vertical-align: top;\n",
              "    }\n",
              "\n",
              "    .dataframe thead th {\n",
              "        text-align: right;\n",
              "    }\n",
              "</style>\n",
              "<table border=\"1\" class=\"dataframe\">\n",
              "  <thead>\n",
              "    <tr style=\"text-align: right;\">\n",
              "      <th></th>\n",
              "      <th>0</th>\n",
              "    </tr>\n",
              "  </thead>\n",
              "  <tbody>\n",
              "    <tr>\n",
              "      <th>ano</th>\n",
              "      <td>int64</td>\n",
              "    </tr>\n",
              "    <tr>\n",
              "      <th>nivel_1</th>\n",
              "      <td>object</td>\n",
              "    </tr>\n",
              "    <tr>\n",
              "      <th>nivel_2</th>\n",
              "      <td>object</td>\n",
              "    </tr>\n",
              "    <tr>\n",
              "      <th>nivel_3</th>\n",
              "      <td>object</td>\n",
              "    </tr>\n",
              "    <tr>\n",
              "      <th>nivel_4</th>\n",
              "      <td>object</td>\n",
              "    </tr>\n",
              "    <tr>\n",
              "      <th>nivel_5</th>\n",
              "      <td>object</td>\n",
              "    </tr>\n",
              "    <tr>\n",
              "      <th>nivel_6</th>\n",
              "      <td>object</td>\n",
              "    </tr>\n",
              "    <tr>\n",
              "      <th>tipo_emissao</th>\n",
              "      <td>object</td>\n",
              "    </tr>\n",
              "    <tr>\n",
              "      <th>gas</th>\n",
              "      <td>object</td>\n",
              "    </tr>\n",
              "    <tr>\n",
              "      <th>atividade_economica</th>\n",
              "      <td>object</td>\n",
              "    </tr>\n",
              "    <tr>\n",
              "      <th>produto</th>\n",
              "      <td>object</td>\n",
              "    </tr>\n",
              "    <tr>\n",
              "      <th>emissao</th>\n",
              "      <td>float64</td>\n",
              "    </tr>\n",
              "  </tbody>\n",
              "</table>\n",
              "</div><br><label><b>dtype:</b> object</label>"
            ]
          },
          "metadata": {},
          "execution_count": 106
        }
      ]
    },
    {
      "cell_type": "code",
      "source": [
        "#verificação de nulos\n",
        "emissoes_df.isnull().sum()"
      ],
      "metadata": {
        "colab": {
          "base_uri": "https://localhost:8080/",
          "height": 460
        },
        "id": "qlai-WX3AAOf",
        "outputId": "3691c0c6-6641-4185-b7af-717370ba79bd"
      },
      "execution_count": null,
      "outputs": [
        {
          "output_type": "execute_result",
          "data": {
            "text/plain": [
              "ano                         0\n",
              "nivel_1                     0\n",
              "nivel_2                     0\n",
              "nivel_3                     0\n",
              "nivel_4                     0\n",
              "nivel_5                     0\n",
              "nivel_6                     0\n",
              "tipo_emissao                0\n",
              "gas                         0\n",
              "atividade_economica      1750\n",
              "produto                186750\n",
              "emissao                 48525\n",
              "dtype: int64"
            ],
            "text/html": [
              "<div>\n",
              "<style scoped>\n",
              "    .dataframe tbody tr th:only-of-type {\n",
              "        vertical-align: middle;\n",
              "    }\n",
              "\n",
              "    .dataframe tbody tr th {\n",
              "        vertical-align: top;\n",
              "    }\n",
              "\n",
              "    .dataframe thead th {\n",
              "        text-align: right;\n",
              "    }\n",
              "</style>\n",
              "<table border=\"1\" class=\"dataframe\">\n",
              "  <thead>\n",
              "    <tr style=\"text-align: right;\">\n",
              "      <th></th>\n",
              "      <th>0</th>\n",
              "    </tr>\n",
              "  </thead>\n",
              "  <tbody>\n",
              "    <tr>\n",
              "      <th>ano</th>\n",
              "      <td>0</td>\n",
              "    </tr>\n",
              "    <tr>\n",
              "      <th>nivel_1</th>\n",
              "      <td>0</td>\n",
              "    </tr>\n",
              "    <tr>\n",
              "      <th>nivel_2</th>\n",
              "      <td>0</td>\n",
              "    </tr>\n",
              "    <tr>\n",
              "      <th>nivel_3</th>\n",
              "      <td>0</td>\n",
              "    </tr>\n",
              "    <tr>\n",
              "      <th>nivel_4</th>\n",
              "      <td>0</td>\n",
              "    </tr>\n",
              "    <tr>\n",
              "      <th>nivel_5</th>\n",
              "      <td>0</td>\n",
              "    </tr>\n",
              "    <tr>\n",
              "      <th>nivel_6</th>\n",
              "      <td>0</td>\n",
              "    </tr>\n",
              "    <tr>\n",
              "      <th>tipo_emissao</th>\n",
              "      <td>0</td>\n",
              "    </tr>\n",
              "    <tr>\n",
              "      <th>gas</th>\n",
              "      <td>0</td>\n",
              "    </tr>\n",
              "    <tr>\n",
              "      <th>atividade_economica</th>\n",
              "      <td>1750</td>\n",
              "    </tr>\n",
              "    <tr>\n",
              "      <th>produto</th>\n",
              "      <td>186750</td>\n",
              "    </tr>\n",
              "    <tr>\n",
              "      <th>emissao</th>\n",
              "      <td>48525</td>\n",
              "    </tr>\n",
              "  </tbody>\n",
              "</table>\n",
              "</div><br><label><b>dtype:</b> int64</label>"
            ]
          },
          "metadata": {},
          "execution_count": 107
        }
      ]
    },
    {
      "cell_type": "code",
      "source": [
        "# excluir coluna de  produto devido a quantidade de valores nulos\n",
        "\n",
        "emissoes_df.drop(columns =['produto'], axis = 1, inplace = True)"
      ],
      "metadata": {
        "id": "E6Ng8EG2ARHn"
      },
      "execution_count": null,
      "outputs": []
    },
    {
      "cell_type": "code",
      "source": [
        "# excluir linhas com valores nulos\n",
        "emissoes_df = emissoes_df.dropna()"
      ],
      "metadata": {
        "id": "PR1LIz1LIo-4"
      },
      "execution_count": null,
      "outputs": []
    },
    {
      "cell_type": "code",
      "source": [
        "emissoes_df.isnull().sum()"
      ],
      "metadata": {
        "colab": {
          "base_uri": "https://localhost:8080/",
          "height": 429
        },
        "id": "7dH43_SXIwx1",
        "outputId": "ede75af9-b973-457f-f17e-d84254657039"
      },
      "execution_count": null,
      "outputs": [
        {
          "output_type": "execute_result",
          "data": {
            "text/plain": [
              "ano                    0\n",
              "nivel_1                0\n",
              "nivel_2                0\n",
              "nivel_3                0\n",
              "nivel_4                0\n",
              "nivel_5                0\n",
              "nivel_6                0\n",
              "tipo_emissao           0\n",
              "gas                    0\n",
              "atividade_economica    0\n",
              "emissao                0\n",
              "dtype: int64"
            ],
            "text/html": [
              "<div>\n",
              "<style scoped>\n",
              "    .dataframe tbody tr th:only-of-type {\n",
              "        vertical-align: middle;\n",
              "    }\n",
              "\n",
              "    .dataframe tbody tr th {\n",
              "        vertical-align: top;\n",
              "    }\n",
              "\n",
              "    .dataframe thead th {\n",
              "        text-align: right;\n",
              "    }\n",
              "</style>\n",
              "<table border=\"1\" class=\"dataframe\">\n",
              "  <thead>\n",
              "    <tr style=\"text-align: right;\">\n",
              "      <th></th>\n",
              "      <th>0</th>\n",
              "    </tr>\n",
              "  </thead>\n",
              "  <tbody>\n",
              "    <tr>\n",
              "      <th>ano</th>\n",
              "      <td>0</td>\n",
              "    </tr>\n",
              "    <tr>\n",
              "      <th>nivel_1</th>\n",
              "      <td>0</td>\n",
              "    </tr>\n",
              "    <tr>\n",
              "      <th>nivel_2</th>\n",
              "      <td>0</td>\n",
              "    </tr>\n",
              "    <tr>\n",
              "      <th>nivel_3</th>\n",
              "      <td>0</td>\n",
              "    </tr>\n",
              "    <tr>\n",
              "      <th>nivel_4</th>\n",
              "      <td>0</td>\n",
              "    </tr>\n",
              "    <tr>\n",
              "      <th>nivel_5</th>\n",
              "      <td>0</td>\n",
              "    </tr>\n",
              "    <tr>\n",
              "      <th>nivel_6</th>\n",
              "      <td>0</td>\n",
              "    </tr>\n",
              "    <tr>\n",
              "      <th>tipo_emissao</th>\n",
              "      <td>0</td>\n",
              "    </tr>\n",
              "    <tr>\n",
              "      <th>gas</th>\n",
              "      <td>0</td>\n",
              "    </tr>\n",
              "    <tr>\n",
              "      <th>atividade_economica</th>\n",
              "      <td>0</td>\n",
              "    </tr>\n",
              "    <tr>\n",
              "      <th>emissao</th>\n",
              "      <td>0</td>\n",
              "    </tr>\n",
              "  </tbody>\n",
              "</table>\n",
              "</div><br><label><b>dtype:</b> int64</label>"
            ]
          },
          "metadata": {},
          "execution_count": 167
        }
      ]
    },
    {
      "cell_type": "code",
      "source": [
        "# remover valores negativos do df na coluna de emissao\n",
        "emissoes_df = emissoes_df[(emissoes_df['emissao'] >= 0)]"
      ],
      "metadata": {
        "id": "wdnlX1wbZtPV"
      },
      "execution_count": null,
      "outputs": []
    },
    {
      "cell_type": "code",
      "source": [
        "emissoes_df.shape"
      ],
      "metadata": {
        "colab": {
          "base_uri": "https://localhost:8080/"
        },
        "id": "ISXoEXfjJatb",
        "outputId": "03ce9f42-a77f-4dc4-acd9-8cc0180d18b4"
      },
      "execution_count": null,
      "outputs": [
        {
          "output_type": "execute_result",
          "data": {
            "text/plain": [
              "(377534, 11)"
            ]
          },
          "metadata": {},
          "execution_count": 169
        }
      ]
    },
    {
      "cell_type": "code",
      "source": [
        "# verificação de duplicatas\n",
        "emissoes_df.duplicated().any()"
      ],
      "metadata": {
        "colab": {
          "base_uri": "https://localhost:8080/"
        },
        "id": "wJP6Ugb9AIYO",
        "outputId": "d61a5df1-d226-4c5e-e220-9dbb4c6d2737"
      },
      "execution_count": null,
      "outputs": [
        {
          "output_type": "execute_result",
          "data": {
            "text/plain": [
              "False"
            ]
          },
          "metadata": {},
          "execution_count": 170
        }
      ]
    },
    {
      "cell_type": "code",
      "source": [
        "# renomear colunas do df para melhor entendimento dos dados\n",
        "\n",
        "emissoes_df.rename(columns = {'nivel_1': 'setor', 'nivel_2': 'processo_emissor', 'nivel_3': 'forma_emissao', 'nivel_4': 'processo_especifico', 'nivel_5': 'tipo_atividade', 'nivel_6': 'atividade_especifica'}, inplace = True)"
      ],
      "metadata": {
        "id": "ylYIK9MkLbVV"
      },
      "execution_count": null,
      "outputs": []
    },
    {
      "cell_type": "code",
      "source": [
        "emissoes_df.head()"
      ],
      "metadata": {
        "colab": {
          "base_uri": "https://localhost:8080/",
          "height": 206
        },
        "id": "pl4aCh9oLeik",
        "outputId": "f8a23951-2495-412d-ff0c-4f97a81c37dc"
      },
      "execution_count": null,
      "outputs": [
        {
          "output_type": "execute_result",
          "data": {
            "text/plain": [
              "      ano         setor      processo_emissor forma_emissao  \\\n",
              "350  1970  Agropecuária  Fermentação Entérica       Diretas   \n",
              "351  1971  Agropecuária  Fermentação Entérica       Diretas   \n",
              "352  1972  Agropecuária  Fermentação Entérica       Diretas   \n",
              "353  1973  Agropecuária  Fermentação Entérica       Diretas   \n",
              "354  1974  Agropecuária  Fermentação Entérica       Diretas   \n",
              "\n",
              "    processo_especifico tipo_atividade atividade_especifica tipo_emissao  \\\n",
              "350              Outros         Animal              Asinino      Emissão   \n",
              "351              Outros         Animal              Asinino      Emissão   \n",
              "352              Outros         Animal              Asinino      Emissão   \n",
              "353              Outros         Animal              Asinino      Emissão   \n",
              "354              Outros         Animal              Asinino      Emissão   \n",
              "\n",
              "         gas atividade_economica    emissao  \n",
              "350  CH4 (t)                 PEC  14204.460  \n",
              "351  CH4 (t)                 PEC  14573.875  \n",
              "352  CH4 (t)                 PEC  14943.290  \n",
              "353  CH4 (t)                 PEC  15312.705  \n",
              "354  CH4 (t)                 PEC  15682.120  "
            ],
            "text/html": [
              "\n",
              "  <div id=\"df-b3c6df8d-8624-435d-90a2-73a519b3caff\" class=\"colab-df-container\">\n",
              "    <div>\n",
              "<style scoped>\n",
              "    .dataframe tbody tr th:only-of-type {\n",
              "        vertical-align: middle;\n",
              "    }\n",
              "\n",
              "    .dataframe tbody tr th {\n",
              "        vertical-align: top;\n",
              "    }\n",
              "\n",
              "    .dataframe thead th {\n",
              "        text-align: right;\n",
              "    }\n",
              "</style>\n",
              "<table border=\"1\" class=\"dataframe\">\n",
              "  <thead>\n",
              "    <tr style=\"text-align: right;\">\n",
              "      <th></th>\n",
              "      <th>ano</th>\n",
              "      <th>setor</th>\n",
              "      <th>processo_emissor</th>\n",
              "      <th>forma_emissao</th>\n",
              "      <th>processo_especifico</th>\n",
              "      <th>tipo_atividade</th>\n",
              "      <th>atividade_especifica</th>\n",
              "      <th>tipo_emissao</th>\n",
              "      <th>gas</th>\n",
              "      <th>atividade_economica</th>\n",
              "      <th>emissao</th>\n",
              "    </tr>\n",
              "  </thead>\n",
              "  <tbody>\n",
              "    <tr>\n",
              "      <th>350</th>\n",
              "      <td>1970</td>\n",
              "      <td>Agropecuária</td>\n",
              "      <td>Fermentação Entérica</td>\n",
              "      <td>Diretas</td>\n",
              "      <td>Outros</td>\n",
              "      <td>Animal</td>\n",
              "      <td>Asinino</td>\n",
              "      <td>Emissão</td>\n",
              "      <td>CH4 (t)</td>\n",
              "      <td>PEC</td>\n",
              "      <td>14204.460</td>\n",
              "    </tr>\n",
              "    <tr>\n",
              "      <th>351</th>\n",
              "      <td>1971</td>\n",
              "      <td>Agropecuária</td>\n",
              "      <td>Fermentação Entérica</td>\n",
              "      <td>Diretas</td>\n",
              "      <td>Outros</td>\n",
              "      <td>Animal</td>\n",
              "      <td>Asinino</td>\n",
              "      <td>Emissão</td>\n",
              "      <td>CH4 (t)</td>\n",
              "      <td>PEC</td>\n",
              "      <td>14573.875</td>\n",
              "    </tr>\n",
              "    <tr>\n",
              "      <th>352</th>\n",
              "      <td>1972</td>\n",
              "      <td>Agropecuária</td>\n",
              "      <td>Fermentação Entérica</td>\n",
              "      <td>Diretas</td>\n",
              "      <td>Outros</td>\n",
              "      <td>Animal</td>\n",
              "      <td>Asinino</td>\n",
              "      <td>Emissão</td>\n",
              "      <td>CH4 (t)</td>\n",
              "      <td>PEC</td>\n",
              "      <td>14943.290</td>\n",
              "    </tr>\n",
              "    <tr>\n",
              "      <th>353</th>\n",
              "      <td>1973</td>\n",
              "      <td>Agropecuária</td>\n",
              "      <td>Fermentação Entérica</td>\n",
              "      <td>Diretas</td>\n",
              "      <td>Outros</td>\n",
              "      <td>Animal</td>\n",
              "      <td>Asinino</td>\n",
              "      <td>Emissão</td>\n",
              "      <td>CH4 (t)</td>\n",
              "      <td>PEC</td>\n",
              "      <td>15312.705</td>\n",
              "    </tr>\n",
              "    <tr>\n",
              "      <th>354</th>\n",
              "      <td>1974</td>\n",
              "      <td>Agropecuária</td>\n",
              "      <td>Fermentação Entérica</td>\n",
              "      <td>Diretas</td>\n",
              "      <td>Outros</td>\n",
              "      <td>Animal</td>\n",
              "      <td>Asinino</td>\n",
              "      <td>Emissão</td>\n",
              "      <td>CH4 (t)</td>\n",
              "      <td>PEC</td>\n",
              "      <td>15682.120</td>\n",
              "    </tr>\n",
              "  </tbody>\n",
              "</table>\n",
              "</div>\n",
              "    <div class=\"colab-df-buttons\">\n",
              "\n",
              "  <div class=\"colab-df-container\">\n",
              "    <button class=\"colab-df-convert\" onclick=\"convertToInteractive('df-b3c6df8d-8624-435d-90a2-73a519b3caff')\"\n",
              "            title=\"Convert this dataframe to an interactive table.\"\n",
              "            style=\"display:none;\">\n",
              "\n",
              "  <svg xmlns=\"http://www.w3.org/2000/svg\" height=\"24px\" viewBox=\"0 -960 960 960\">\n",
              "    <path d=\"M120-120v-720h720v720H120Zm60-500h600v-160H180v160Zm220 220h160v-160H400v160Zm0 220h160v-160H400v160ZM180-400h160v-160H180v160Zm440 0h160v-160H620v160ZM180-180h160v-160H180v160Zm440 0h160v-160H620v160Z\"/>\n",
              "  </svg>\n",
              "    </button>\n",
              "\n",
              "  <style>\n",
              "    .colab-df-container {\n",
              "      display:flex;\n",
              "      gap: 12px;\n",
              "    }\n",
              "\n",
              "    .colab-df-convert {\n",
              "      background-color: #E8F0FE;\n",
              "      border: none;\n",
              "      border-radius: 50%;\n",
              "      cursor: pointer;\n",
              "      display: none;\n",
              "      fill: #1967D2;\n",
              "      height: 32px;\n",
              "      padding: 0 0 0 0;\n",
              "      width: 32px;\n",
              "    }\n",
              "\n",
              "    .colab-df-convert:hover {\n",
              "      background-color: #E2EBFA;\n",
              "      box-shadow: 0px 1px 2px rgba(60, 64, 67, 0.3), 0px 1px 3px 1px rgba(60, 64, 67, 0.15);\n",
              "      fill: #174EA6;\n",
              "    }\n",
              "\n",
              "    .colab-df-buttons div {\n",
              "      margin-bottom: 4px;\n",
              "    }\n",
              "\n",
              "    [theme=dark] .colab-df-convert {\n",
              "      background-color: #3B4455;\n",
              "      fill: #D2E3FC;\n",
              "    }\n",
              "\n",
              "    [theme=dark] .colab-df-convert:hover {\n",
              "      background-color: #434B5C;\n",
              "      box-shadow: 0px 1px 3px 1px rgba(0, 0, 0, 0.15);\n",
              "      filter: drop-shadow(0px 1px 2px rgba(0, 0, 0, 0.3));\n",
              "      fill: #FFFFFF;\n",
              "    }\n",
              "  </style>\n",
              "\n",
              "    <script>\n",
              "      const buttonEl =\n",
              "        document.querySelector('#df-b3c6df8d-8624-435d-90a2-73a519b3caff button.colab-df-convert');\n",
              "      buttonEl.style.display =\n",
              "        google.colab.kernel.accessAllowed ? 'block' : 'none';\n",
              "\n",
              "      async function convertToInteractive(key) {\n",
              "        const element = document.querySelector('#df-b3c6df8d-8624-435d-90a2-73a519b3caff');\n",
              "        const dataTable =\n",
              "          await google.colab.kernel.invokeFunction('convertToInteractive',\n",
              "                                                    [key], {});\n",
              "        if (!dataTable) return;\n",
              "\n",
              "        const docLinkHtml = 'Like what you see? Visit the ' +\n",
              "          '<a target=\"_blank\" href=https://colab.research.google.com/notebooks/data_table.ipynb>data table notebook</a>'\n",
              "          + ' to learn more about interactive tables.';\n",
              "        element.innerHTML = '';\n",
              "        dataTable['output_type'] = 'display_data';\n",
              "        await google.colab.output.renderOutput(dataTable, element);\n",
              "        const docLink = document.createElement('div');\n",
              "        docLink.innerHTML = docLinkHtml;\n",
              "        element.appendChild(docLink);\n",
              "      }\n",
              "    </script>\n",
              "  </div>\n",
              "\n",
              "\n",
              "<div id=\"df-971633c3-2c58-4a7a-8168-693a353f07b9\">\n",
              "  <button class=\"colab-df-quickchart\" onclick=\"quickchart('df-971633c3-2c58-4a7a-8168-693a353f07b9')\"\n",
              "            title=\"Suggest charts\"\n",
              "            style=\"display:none;\">\n",
              "\n",
              "<svg xmlns=\"http://www.w3.org/2000/svg\" height=\"24px\"viewBox=\"0 0 24 24\"\n",
              "     width=\"24px\">\n",
              "    <g>\n",
              "        <path d=\"M19 3H5c-1.1 0-2 .9-2 2v14c0 1.1.9 2 2 2h14c1.1 0 2-.9 2-2V5c0-1.1-.9-2-2-2zM9 17H7v-7h2v7zm4 0h-2V7h2v10zm4 0h-2v-4h2v4z\"/>\n",
              "    </g>\n",
              "</svg>\n",
              "  </button>\n",
              "\n",
              "<style>\n",
              "  .colab-df-quickchart {\n",
              "      --bg-color: #E8F0FE;\n",
              "      --fill-color: #1967D2;\n",
              "      --hover-bg-color: #E2EBFA;\n",
              "      --hover-fill-color: #174EA6;\n",
              "      --disabled-fill-color: #AAA;\n",
              "      --disabled-bg-color: #DDD;\n",
              "  }\n",
              "\n",
              "  [theme=dark] .colab-df-quickchart {\n",
              "      --bg-color: #3B4455;\n",
              "      --fill-color: #D2E3FC;\n",
              "      --hover-bg-color: #434B5C;\n",
              "      --hover-fill-color: #FFFFFF;\n",
              "      --disabled-bg-color: #3B4455;\n",
              "      --disabled-fill-color: #666;\n",
              "  }\n",
              "\n",
              "  .colab-df-quickchart {\n",
              "    background-color: var(--bg-color);\n",
              "    border: none;\n",
              "    border-radius: 50%;\n",
              "    cursor: pointer;\n",
              "    display: none;\n",
              "    fill: var(--fill-color);\n",
              "    height: 32px;\n",
              "    padding: 0;\n",
              "    width: 32px;\n",
              "  }\n",
              "\n",
              "  .colab-df-quickchart:hover {\n",
              "    background-color: var(--hover-bg-color);\n",
              "    box-shadow: 0 1px 2px rgba(60, 64, 67, 0.3), 0 1px 3px 1px rgba(60, 64, 67, 0.15);\n",
              "    fill: var(--button-hover-fill-color);\n",
              "  }\n",
              "\n",
              "  .colab-df-quickchart-complete:disabled,\n",
              "  .colab-df-quickchart-complete:disabled:hover {\n",
              "    background-color: var(--disabled-bg-color);\n",
              "    fill: var(--disabled-fill-color);\n",
              "    box-shadow: none;\n",
              "  }\n",
              "\n",
              "  .colab-df-spinner {\n",
              "    border: 2px solid var(--fill-color);\n",
              "    border-color: transparent;\n",
              "    border-bottom-color: var(--fill-color);\n",
              "    animation:\n",
              "      spin 1s steps(1) infinite;\n",
              "  }\n",
              "\n",
              "  @keyframes spin {\n",
              "    0% {\n",
              "      border-color: transparent;\n",
              "      border-bottom-color: var(--fill-color);\n",
              "      border-left-color: var(--fill-color);\n",
              "    }\n",
              "    20% {\n",
              "      border-color: transparent;\n",
              "      border-left-color: var(--fill-color);\n",
              "      border-top-color: var(--fill-color);\n",
              "    }\n",
              "    30% {\n",
              "      border-color: transparent;\n",
              "      border-left-color: var(--fill-color);\n",
              "      border-top-color: var(--fill-color);\n",
              "      border-right-color: var(--fill-color);\n",
              "    }\n",
              "    40% {\n",
              "      border-color: transparent;\n",
              "      border-right-color: var(--fill-color);\n",
              "      border-top-color: var(--fill-color);\n",
              "    }\n",
              "    60% {\n",
              "      border-color: transparent;\n",
              "      border-right-color: var(--fill-color);\n",
              "    }\n",
              "    80% {\n",
              "      border-color: transparent;\n",
              "      border-right-color: var(--fill-color);\n",
              "      border-bottom-color: var(--fill-color);\n",
              "    }\n",
              "    90% {\n",
              "      border-color: transparent;\n",
              "      border-bottom-color: var(--fill-color);\n",
              "    }\n",
              "  }\n",
              "</style>\n",
              "\n",
              "  <script>\n",
              "    async function quickchart(key) {\n",
              "      const quickchartButtonEl =\n",
              "        document.querySelector('#' + key + ' button');\n",
              "      quickchartButtonEl.disabled = true;  // To prevent multiple clicks.\n",
              "      quickchartButtonEl.classList.add('colab-df-spinner');\n",
              "      try {\n",
              "        const charts = await google.colab.kernel.invokeFunction(\n",
              "            'suggestCharts', [key], {});\n",
              "      } catch (error) {\n",
              "        console.error('Error during call to suggestCharts:', error);\n",
              "      }\n",
              "      quickchartButtonEl.classList.remove('colab-df-spinner');\n",
              "      quickchartButtonEl.classList.add('colab-df-quickchart-complete');\n",
              "    }\n",
              "    (() => {\n",
              "      let quickchartButtonEl =\n",
              "        document.querySelector('#df-971633c3-2c58-4a7a-8168-693a353f07b9 button');\n",
              "      quickchartButtonEl.style.display =\n",
              "        google.colab.kernel.accessAllowed ? 'block' : 'none';\n",
              "    })();\n",
              "  </script>\n",
              "</div>\n",
              "\n",
              "    </div>\n",
              "  </div>\n"
            ],
            "application/vnd.google.colaboratory.intrinsic+json": {
              "type": "dataframe",
              "variable_name": "emissoes_df"
            }
          },
          "metadata": {},
          "execution_count": 115
        }
      ]
    },
    {
      "cell_type": "code",
      "source": [
        "emissoes_df.tail()"
      ],
      "metadata": {
        "colab": {
          "base_uri": "https://localhost:8080/",
          "height": 293
        },
        "id": "Qtlh0NphfqSz",
        "outputId": "18b7470c-8226-4b9b-ec95-eb1016925659"
      },
      "execution_count": null,
      "outputs": [
        {
          "output_type": "execute_result",
          "data": {
            "text/plain": [
              "         ano      setor  processo_emissor  \\\n",
              "454845  2015  Resíduos   Resíduos Sólidos   \n",
              "454846  2016  Resíduos   Resíduos Sólidos   \n",
              "454847  2017  Resíduos   Resíduos Sólidos   \n",
              "454848  2018  Resíduos   Resíduos Sólidos   \n",
              "454849  2019  Resíduos   Resíduos Sólidos   \n",
              "\n",
              "                                   forma_emissao       processo_especifico  \\\n",
              "454845  Tratamento Biológico de Resíduos Sólidos  Resíduos Sólidos Urbanos   \n",
              "454846  Tratamento Biológico de Resíduos Sólidos  Resíduos Sólidos Urbanos   \n",
              "454847  Tratamento Biológico de Resíduos Sólidos  Resíduos Sólidos Urbanos   \n",
              "454848  Tratamento Biológico de Resíduos Sólidos  Resíduos Sólidos Urbanos   \n",
              "454849  Tratamento Biológico de Resíduos Sólidos  Resíduos Sólidos Urbanos   \n",
              "\n",
              "       tipo_atividade atividade_especifica tipo_emissao      gas  \\\n",
              "454845    Compostagem       NÃO SE APLICA       Emissão  N2O (t)   \n",
              "454846    Compostagem       NÃO SE APLICA       Emissão  N2O (t)   \n",
              "454847    Compostagem       NÃO SE APLICA       Emissão  N2O (t)   \n",
              "454848    Compostagem       NÃO SE APLICA       Emissão  N2O (t)   \n",
              "454849    Compostagem       NÃO SE APLICA       Emissão  N2O (t)   \n",
              "\n",
              "       atividade_economica    emissao  \n",
              "454845          SANEAMENTO  74.195798  \n",
              "454846          SANEAMENTO  69.360711  \n",
              "454847          SANEAMENTO  69.919672  \n",
              "454848          SANEAMENTO  70.507559  \n",
              "454849          SANEAMENTO  71.068872  "
            ],
            "text/html": [
              "\n",
              "  <div id=\"df-7e78d68e-3508-4199-9ee0-53b1464f4fd1\" class=\"colab-df-container\">\n",
              "    <div>\n",
              "<style scoped>\n",
              "    .dataframe tbody tr th:only-of-type {\n",
              "        vertical-align: middle;\n",
              "    }\n",
              "\n",
              "    .dataframe tbody tr th {\n",
              "        vertical-align: top;\n",
              "    }\n",
              "\n",
              "    .dataframe thead th {\n",
              "        text-align: right;\n",
              "    }\n",
              "</style>\n",
              "<table border=\"1\" class=\"dataframe\">\n",
              "  <thead>\n",
              "    <tr style=\"text-align: right;\">\n",
              "      <th></th>\n",
              "      <th>ano</th>\n",
              "      <th>setor</th>\n",
              "      <th>processo_emissor</th>\n",
              "      <th>forma_emissao</th>\n",
              "      <th>processo_especifico</th>\n",
              "      <th>tipo_atividade</th>\n",
              "      <th>atividade_especifica</th>\n",
              "      <th>tipo_emissao</th>\n",
              "      <th>gas</th>\n",
              "      <th>atividade_economica</th>\n",
              "      <th>emissao</th>\n",
              "    </tr>\n",
              "  </thead>\n",
              "  <tbody>\n",
              "    <tr>\n",
              "      <th>454845</th>\n",
              "      <td>2015</td>\n",
              "      <td>Resíduos</td>\n",
              "      <td>Resíduos Sólidos</td>\n",
              "      <td>Tratamento Biológico de Resíduos Sólidos</td>\n",
              "      <td>Resíduos Sólidos Urbanos</td>\n",
              "      <td>Compostagem</td>\n",
              "      <td>NÃO SE APLICA</td>\n",
              "      <td>Emissão</td>\n",
              "      <td>N2O (t)</td>\n",
              "      <td>SANEAMENTO</td>\n",
              "      <td>74.195798</td>\n",
              "    </tr>\n",
              "    <tr>\n",
              "      <th>454846</th>\n",
              "      <td>2016</td>\n",
              "      <td>Resíduos</td>\n",
              "      <td>Resíduos Sólidos</td>\n",
              "      <td>Tratamento Biológico de Resíduos Sólidos</td>\n",
              "      <td>Resíduos Sólidos Urbanos</td>\n",
              "      <td>Compostagem</td>\n",
              "      <td>NÃO SE APLICA</td>\n",
              "      <td>Emissão</td>\n",
              "      <td>N2O (t)</td>\n",
              "      <td>SANEAMENTO</td>\n",
              "      <td>69.360711</td>\n",
              "    </tr>\n",
              "    <tr>\n",
              "      <th>454847</th>\n",
              "      <td>2017</td>\n",
              "      <td>Resíduos</td>\n",
              "      <td>Resíduos Sólidos</td>\n",
              "      <td>Tratamento Biológico de Resíduos Sólidos</td>\n",
              "      <td>Resíduos Sólidos Urbanos</td>\n",
              "      <td>Compostagem</td>\n",
              "      <td>NÃO SE APLICA</td>\n",
              "      <td>Emissão</td>\n",
              "      <td>N2O (t)</td>\n",
              "      <td>SANEAMENTO</td>\n",
              "      <td>69.919672</td>\n",
              "    </tr>\n",
              "    <tr>\n",
              "      <th>454848</th>\n",
              "      <td>2018</td>\n",
              "      <td>Resíduos</td>\n",
              "      <td>Resíduos Sólidos</td>\n",
              "      <td>Tratamento Biológico de Resíduos Sólidos</td>\n",
              "      <td>Resíduos Sólidos Urbanos</td>\n",
              "      <td>Compostagem</td>\n",
              "      <td>NÃO SE APLICA</td>\n",
              "      <td>Emissão</td>\n",
              "      <td>N2O (t)</td>\n",
              "      <td>SANEAMENTO</td>\n",
              "      <td>70.507559</td>\n",
              "    </tr>\n",
              "    <tr>\n",
              "      <th>454849</th>\n",
              "      <td>2019</td>\n",
              "      <td>Resíduos</td>\n",
              "      <td>Resíduos Sólidos</td>\n",
              "      <td>Tratamento Biológico de Resíduos Sólidos</td>\n",
              "      <td>Resíduos Sólidos Urbanos</td>\n",
              "      <td>Compostagem</td>\n",
              "      <td>NÃO SE APLICA</td>\n",
              "      <td>Emissão</td>\n",
              "      <td>N2O (t)</td>\n",
              "      <td>SANEAMENTO</td>\n",
              "      <td>71.068872</td>\n",
              "    </tr>\n",
              "  </tbody>\n",
              "</table>\n",
              "</div>\n",
              "    <div class=\"colab-df-buttons\">\n",
              "\n",
              "  <div class=\"colab-df-container\">\n",
              "    <button class=\"colab-df-convert\" onclick=\"convertToInteractive('df-7e78d68e-3508-4199-9ee0-53b1464f4fd1')\"\n",
              "            title=\"Convert this dataframe to an interactive table.\"\n",
              "            style=\"display:none;\">\n",
              "\n",
              "  <svg xmlns=\"http://www.w3.org/2000/svg\" height=\"24px\" viewBox=\"0 -960 960 960\">\n",
              "    <path d=\"M120-120v-720h720v720H120Zm60-500h600v-160H180v160Zm220 220h160v-160H400v160Zm0 220h160v-160H400v160ZM180-400h160v-160H180v160Zm440 0h160v-160H620v160ZM180-180h160v-160H180v160Zm440 0h160v-160H620v160Z\"/>\n",
              "  </svg>\n",
              "    </button>\n",
              "\n",
              "  <style>\n",
              "    .colab-df-container {\n",
              "      display:flex;\n",
              "      gap: 12px;\n",
              "    }\n",
              "\n",
              "    .colab-df-convert {\n",
              "      background-color: #E8F0FE;\n",
              "      border: none;\n",
              "      border-radius: 50%;\n",
              "      cursor: pointer;\n",
              "      display: none;\n",
              "      fill: #1967D2;\n",
              "      height: 32px;\n",
              "      padding: 0 0 0 0;\n",
              "      width: 32px;\n",
              "    }\n",
              "\n",
              "    .colab-df-convert:hover {\n",
              "      background-color: #E2EBFA;\n",
              "      box-shadow: 0px 1px 2px rgba(60, 64, 67, 0.3), 0px 1px 3px 1px rgba(60, 64, 67, 0.15);\n",
              "      fill: #174EA6;\n",
              "    }\n",
              "\n",
              "    .colab-df-buttons div {\n",
              "      margin-bottom: 4px;\n",
              "    }\n",
              "\n",
              "    [theme=dark] .colab-df-convert {\n",
              "      background-color: #3B4455;\n",
              "      fill: #D2E3FC;\n",
              "    }\n",
              "\n",
              "    [theme=dark] .colab-df-convert:hover {\n",
              "      background-color: #434B5C;\n",
              "      box-shadow: 0px 1px 3px 1px rgba(0, 0, 0, 0.15);\n",
              "      filter: drop-shadow(0px 1px 2px rgba(0, 0, 0, 0.3));\n",
              "      fill: #FFFFFF;\n",
              "    }\n",
              "  </style>\n",
              "\n",
              "    <script>\n",
              "      const buttonEl =\n",
              "        document.querySelector('#df-7e78d68e-3508-4199-9ee0-53b1464f4fd1 button.colab-df-convert');\n",
              "      buttonEl.style.display =\n",
              "        google.colab.kernel.accessAllowed ? 'block' : 'none';\n",
              "\n",
              "      async function convertToInteractive(key) {\n",
              "        const element = document.querySelector('#df-7e78d68e-3508-4199-9ee0-53b1464f4fd1');\n",
              "        const dataTable =\n",
              "          await google.colab.kernel.invokeFunction('convertToInteractive',\n",
              "                                                    [key], {});\n",
              "        if (!dataTable) return;\n",
              "\n",
              "        const docLinkHtml = 'Like what you see? Visit the ' +\n",
              "          '<a target=\"_blank\" href=https://colab.research.google.com/notebooks/data_table.ipynb>data table notebook</a>'\n",
              "          + ' to learn more about interactive tables.';\n",
              "        element.innerHTML = '';\n",
              "        dataTable['output_type'] = 'display_data';\n",
              "        await google.colab.output.renderOutput(dataTable, element);\n",
              "        const docLink = document.createElement('div');\n",
              "        docLink.innerHTML = docLinkHtml;\n",
              "        element.appendChild(docLink);\n",
              "      }\n",
              "    </script>\n",
              "  </div>\n",
              "\n",
              "\n",
              "<div id=\"df-cca862c4-dd7b-442c-8ac5-18a3ee678747\">\n",
              "  <button class=\"colab-df-quickchart\" onclick=\"quickchart('df-cca862c4-dd7b-442c-8ac5-18a3ee678747')\"\n",
              "            title=\"Suggest charts\"\n",
              "            style=\"display:none;\">\n",
              "\n",
              "<svg xmlns=\"http://www.w3.org/2000/svg\" height=\"24px\"viewBox=\"0 0 24 24\"\n",
              "     width=\"24px\">\n",
              "    <g>\n",
              "        <path d=\"M19 3H5c-1.1 0-2 .9-2 2v14c0 1.1.9 2 2 2h14c1.1 0 2-.9 2-2V5c0-1.1-.9-2-2-2zM9 17H7v-7h2v7zm4 0h-2V7h2v10zm4 0h-2v-4h2v4z\"/>\n",
              "    </g>\n",
              "</svg>\n",
              "  </button>\n",
              "\n",
              "<style>\n",
              "  .colab-df-quickchart {\n",
              "      --bg-color: #E8F0FE;\n",
              "      --fill-color: #1967D2;\n",
              "      --hover-bg-color: #E2EBFA;\n",
              "      --hover-fill-color: #174EA6;\n",
              "      --disabled-fill-color: #AAA;\n",
              "      --disabled-bg-color: #DDD;\n",
              "  }\n",
              "\n",
              "  [theme=dark] .colab-df-quickchart {\n",
              "      --bg-color: #3B4455;\n",
              "      --fill-color: #D2E3FC;\n",
              "      --hover-bg-color: #434B5C;\n",
              "      --hover-fill-color: #FFFFFF;\n",
              "      --disabled-bg-color: #3B4455;\n",
              "      --disabled-fill-color: #666;\n",
              "  }\n",
              "\n",
              "  .colab-df-quickchart {\n",
              "    background-color: var(--bg-color);\n",
              "    border: none;\n",
              "    border-radius: 50%;\n",
              "    cursor: pointer;\n",
              "    display: none;\n",
              "    fill: var(--fill-color);\n",
              "    height: 32px;\n",
              "    padding: 0;\n",
              "    width: 32px;\n",
              "  }\n",
              "\n",
              "  .colab-df-quickchart:hover {\n",
              "    background-color: var(--hover-bg-color);\n",
              "    box-shadow: 0 1px 2px rgba(60, 64, 67, 0.3), 0 1px 3px 1px rgba(60, 64, 67, 0.15);\n",
              "    fill: var(--button-hover-fill-color);\n",
              "  }\n",
              "\n",
              "  .colab-df-quickchart-complete:disabled,\n",
              "  .colab-df-quickchart-complete:disabled:hover {\n",
              "    background-color: var(--disabled-bg-color);\n",
              "    fill: var(--disabled-fill-color);\n",
              "    box-shadow: none;\n",
              "  }\n",
              "\n",
              "  .colab-df-spinner {\n",
              "    border: 2px solid var(--fill-color);\n",
              "    border-color: transparent;\n",
              "    border-bottom-color: var(--fill-color);\n",
              "    animation:\n",
              "      spin 1s steps(1) infinite;\n",
              "  }\n",
              "\n",
              "  @keyframes spin {\n",
              "    0% {\n",
              "      border-color: transparent;\n",
              "      border-bottom-color: var(--fill-color);\n",
              "      border-left-color: var(--fill-color);\n",
              "    }\n",
              "    20% {\n",
              "      border-color: transparent;\n",
              "      border-left-color: var(--fill-color);\n",
              "      border-top-color: var(--fill-color);\n",
              "    }\n",
              "    30% {\n",
              "      border-color: transparent;\n",
              "      border-left-color: var(--fill-color);\n",
              "      border-top-color: var(--fill-color);\n",
              "      border-right-color: var(--fill-color);\n",
              "    }\n",
              "    40% {\n",
              "      border-color: transparent;\n",
              "      border-right-color: var(--fill-color);\n",
              "      border-top-color: var(--fill-color);\n",
              "    }\n",
              "    60% {\n",
              "      border-color: transparent;\n",
              "      border-right-color: var(--fill-color);\n",
              "    }\n",
              "    80% {\n",
              "      border-color: transparent;\n",
              "      border-right-color: var(--fill-color);\n",
              "      border-bottom-color: var(--fill-color);\n",
              "    }\n",
              "    90% {\n",
              "      border-color: transparent;\n",
              "      border-bottom-color: var(--fill-color);\n",
              "    }\n",
              "  }\n",
              "</style>\n",
              "\n",
              "  <script>\n",
              "    async function quickchart(key) {\n",
              "      const quickchartButtonEl =\n",
              "        document.querySelector('#' + key + ' button');\n",
              "      quickchartButtonEl.disabled = true;  // To prevent multiple clicks.\n",
              "      quickchartButtonEl.classList.add('colab-df-spinner');\n",
              "      try {\n",
              "        const charts = await google.colab.kernel.invokeFunction(\n",
              "            'suggestCharts', [key], {});\n",
              "      } catch (error) {\n",
              "        console.error('Error during call to suggestCharts:', error);\n",
              "      }\n",
              "      quickchartButtonEl.classList.remove('colab-df-spinner');\n",
              "      quickchartButtonEl.classList.add('colab-df-quickchart-complete');\n",
              "    }\n",
              "    (() => {\n",
              "      let quickchartButtonEl =\n",
              "        document.querySelector('#df-cca862c4-dd7b-442c-8ac5-18a3ee678747 button');\n",
              "      quickchartButtonEl.style.display =\n",
              "        google.colab.kernel.accessAllowed ? 'block' : 'none';\n",
              "    })();\n",
              "  </script>\n",
              "</div>\n",
              "\n",
              "    </div>\n",
              "  </div>\n"
            ],
            "application/vnd.google.colaboratory.intrinsic+json": {
              "type": "dataframe",
              "summary": "{\n  \"name\": \"emissoes_df\",\n  \"rows\": 5,\n  \"fields\": [\n    {\n      \"column\": \"ano\",\n      \"properties\": {\n        \"dtype\": \"number\",\n        \"std\": 1,\n        \"min\": 2015,\n        \"max\": 2019,\n        \"num_unique_values\": 5,\n        \"samples\": [\n          2016,\n          2019,\n          2017\n        ],\n        \"semantic_type\": \"\",\n        \"description\": \"\"\n      }\n    },\n    {\n      \"column\": \"setor\",\n      \"properties\": {\n        \"dtype\": \"category\",\n        \"num_unique_values\": 1,\n        \"samples\": [\n          \"Res\\u00edduos \"\n        ],\n        \"semantic_type\": \"\",\n        \"description\": \"\"\n      }\n    },\n    {\n      \"column\": \"processo_emissor\",\n      \"properties\": {\n        \"dtype\": \"category\",\n        \"num_unique_values\": 1,\n        \"samples\": [\n          \"Res\\u00edduos S\\u00f3lidos\"\n        ],\n        \"semantic_type\": \"\",\n        \"description\": \"\"\n      }\n    },\n    {\n      \"column\": \"forma_emissao\",\n      \"properties\": {\n        \"dtype\": \"category\",\n        \"num_unique_values\": 1,\n        \"samples\": [\n          \"Tratamento Biol\\u00f3gico de Res\\u00edduos S\\u00f3lidos\"\n        ],\n        \"semantic_type\": \"\",\n        \"description\": \"\"\n      }\n    },\n    {\n      \"column\": \"processo_especifico\",\n      \"properties\": {\n        \"dtype\": \"category\",\n        \"num_unique_values\": 1,\n        \"samples\": [\n          \"Res\\u00edduos S\\u00f3lidos Urbanos\"\n        ],\n        \"semantic_type\": \"\",\n        \"description\": \"\"\n      }\n    },\n    {\n      \"column\": \"tipo_atividade\",\n      \"properties\": {\n        \"dtype\": \"category\",\n        \"num_unique_values\": 1,\n        \"samples\": [\n          \"Compostagem\"\n        ],\n        \"semantic_type\": \"\",\n        \"description\": \"\"\n      }\n    },\n    {\n      \"column\": \"atividade_especifica\",\n      \"properties\": {\n        \"dtype\": \"category\",\n        \"num_unique_values\": 1,\n        \"samples\": [\n          \"N\\u00c3O SE APLICA \"\n        ],\n        \"semantic_type\": \"\",\n        \"description\": \"\"\n      }\n    },\n    {\n      \"column\": \"tipo_emissao\",\n      \"properties\": {\n        \"dtype\": \"category\",\n        \"num_unique_values\": 1,\n        \"samples\": [\n          \"Emiss\\u00e3o\"\n        ],\n        \"semantic_type\": \"\",\n        \"description\": \"\"\n      }\n    },\n    {\n      \"column\": \"gas\",\n      \"properties\": {\n        \"dtype\": \"category\",\n        \"num_unique_values\": 1,\n        \"samples\": [\n          \"N2O (t)\"\n        ],\n        \"semantic_type\": \"\",\n        \"description\": \"\"\n      }\n    },\n    {\n      \"column\": \"atividade_economica\",\n      \"properties\": {\n        \"dtype\": \"category\",\n        \"num_unique_values\": 1,\n        \"samples\": [\n          \"SANEAMENTO\"\n        ],\n        \"semantic_type\": \"\",\n        \"description\": \"\"\n      }\n    },\n    {\n      \"column\": \"emissao\",\n      \"properties\": {\n        \"dtype\": \"number\",\n        \"std\": 1.8917049027441608,\n        \"min\": 69.360711,\n        \"max\": 74.195798,\n        \"num_unique_values\": 5,\n        \"samples\": [\n          69.360711\n        ],\n        \"semantic_type\": \"\",\n        \"description\": \"\"\n      }\n    }\n  ]\n}"
            }
          },
          "metadata": {},
          "execution_count": 116
        }
      ]
    },
    {
      "cell_type": "code",
      "source": [
        "# filtragem do dataframe para obtenção dos dados entre 2010 e 2019\n",
        "\n",
        "emissoes2010_2019_df = emissoes_df[(emissoes_df['ano'] >= 2010) & (emissoes_df['ano'] <= 2019)]\n",
        "emissoes2010_2019_df.head()"
      ],
      "metadata": {
        "colab": {
          "base_uri": "https://localhost:8080/",
          "height": 206
        },
        "id": "RC0m7m9yB3lI",
        "outputId": "8f99fa59-00af-4610-c9a7-0d471506fa7b"
      },
      "execution_count": null,
      "outputs": [
        {
          "output_type": "execute_result",
          "data": {
            "text/plain": [
              "      ano         setor      processo_emissor forma_emissao  \\\n",
              "390  2010  Agropecuária  Fermentação Entérica       Diretas   \n",
              "391  2011  Agropecuária  Fermentação Entérica       Diretas   \n",
              "392  2012  Agropecuária  Fermentação Entérica       Diretas   \n",
              "393  2013  Agropecuária  Fermentação Entérica       Diretas   \n",
              "394  2014  Agropecuária  Fermentação Entérica       Diretas   \n",
              "\n",
              "    processo_especifico tipo_atividade atividade_especifica tipo_emissao  \\\n",
              "390              Outros         Animal              Asinino      Emissão   \n",
              "391              Outros         Animal              Asinino      Emissão   \n",
              "392              Outros         Animal              Asinino      Emissão   \n",
              "393              Outros         Animal              Asinino      Emissão   \n",
              "394              Outros         Animal              Asinino      Emissão   \n",
              "\n",
              "         gas atividade_economica   emissao  \n",
              "390  CH4 (t)                 PEC  10015.87  \n",
              "391  CH4 (t)                 PEC   9746.88  \n",
              "392  CH4 (t)                 PEC   9027.16  \n",
              "393  CH4 (t)                 PEC   8571.30  \n",
              "394  CH4 (t)                 PEC   8115.45  "
            ],
            "text/html": [
              "\n",
              "  <div id=\"df-d0ab03ab-9506-48ab-8cc2-7e39275421c7\" class=\"colab-df-container\">\n",
              "    <div>\n",
              "<style scoped>\n",
              "    .dataframe tbody tr th:only-of-type {\n",
              "        vertical-align: middle;\n",
              "    }\n",
              "\n",
              "    .dataframe tbody tr th {\n",
              "        vertical-align: top;\n",
              "    }\n",
              "\n",
              "    .dataframe thead th {\n",
              "        text-align: right;\n",
              "    }\n",
              "</style>\n",
              "<table border=\"1\" class=\"dataframe\">\n",
              "  <thead>\n",
              "    <tr style=\"text-align: right;\">\n",
              "      <th></th>\n",
              "      <th>ano</th>\n",
              "      <th>setor</th>\n",
              "      <th>processo_emissor</th>\n",
              "      <th>forma_emissao</th>\n",
              "      <th>processo_especifico</th>\n",
              "      <th>tipo_atividade</th>\n",
              "      <th>atividade_especifica</th>\n",
              "      <th>tipo_emissao</th>\n",
              "      <th>gas</th>\n",
              "      <th>atividade_economica</th>\n",
              "      <th>emissao</th>\n",
              "    </tr>\n",
              "  </thead>\n",
              "  <tbody>\n",
              "    <tr>\n",
              "      <th>390</th>\n",
              "      <td>2010</td>\n",
              "      <td>Agropecuária</td>\n",
              "      <td>Fermentação Entérica</td>\n",
              "      <td>Diretas</td>\n",
              "      <td>Outros</td>\n",
              "      <td>Animal</td>\n",
              "      <td>Asinino</td>\n",
              "      <td>Emissão</td>\n",
              "      <td>CH4 (t)</td>\n",
              "      <td>PEC</td>\n",
              "      <td>10015.87</td>\n",
              "    </tr>\n",
              "    <tr>\n",
              "      <th>391</th>\n",
              "      <td>2011</td>\n",
              "      <td>Agropecuária</td>\n",
              "      <td>Fermentação Entérica</td>\n",
              "      <td>Diretas</td>\n",
              "      <td>Outros</td>\n",
              "      <td>Animal</td>\n",
              "      <td>Asinino</td>\n",
              "      <td>Emissão</td>\n",
              "      <td>CH4 (t)</td>\n",
              "      <td>PEC</td>\n",
              "      <td>9746.88</td>\n",
              "    </tr>\n",
              "    <tr>\n",
              "      <th>392</th>\n",
              "      <td>2012</td>\n",
              "      <td>Agropecuária</td>\n",
              "      <td>Fermentação Entérica</td>\n",
              "      <td>Diretas</td>\n",
              "      <td>Outros</td>\n",
              "      <td>Animal</td>\n",
              "      <td>Asinino</td>\n",
              "      <td>Emissão</td>\n",
              "      <td>CH4 (t)</td>\n",
              "      <td>PEC</td>\n",
              "      <td>9027.16</td>\n",
              "    </tr>\n",
              "    <tr>\n",
              "      <th>393</th>\n",
              "      <td>2013</td>\n",
              "      <td>Agropecuária</td>\n",
              "      <td>Fermentação Entérica</td>\n",
              "      <td>Diretas</td>\n",
              "      <td>Outros</td>\n",
              "      <td>Animal</td>\n",
              "      <td>Asinino</td>\n",
              "      <td>Emissão</td>\n",
              "      <td>CH4 (t)</td>\n",
              "      <td>PEC</td>\n",
              "      <td>8571.30</td>\n",
              "    </tr>\n",
              "    <tr>\n",
              "      <th>394</th>\n",
              "      <td>2014</td>\n",
              "      <td>Agropecuária</td>\n",
              "      <td>Fermentação Entérica</td>\n",
              "      <td>Diretas</td>\n",
              "      <td>Outros</td>\n",
              "      <td>Animal</td>\n",
              "      <td>Asinino</td>\n",
              "      <td>Emissão</td>\n",
              "      <td>CH4 (t)</td>\n",
              "      <td>PEC</td>\n",
              "      <td>8115.45</td>\n",
              "    </tr>\n",
              "  </tbody>\n",
              "</table>\n",
              "</div>\n",
              "    <div class=\"colab-df-buttons\">\n",
              "\n",
              "  <div class=\"colab-df-container\">\n",
              "    <button class=\"colab-df-convert\" onclick=\"convertToInteractive('df-d0ab03ab-9506-48ab-8cc2-7e39275421c7')\"\n",
              "            title=\"Convert this dataframe to an interactive table.\"\n",
              "            style=\"display:none;\">\n",
              "\n",
              "  <svg xmlns=\"http://www.w3.org/2000/svg\" height=\"24px\" viewBox=\"0 -960 960 960\">\n",
              "    <path d=\"M120-120v-720h720v720H120Zm60-500h600v-160H180v160Zm220 220h160v-160H400v160Zm0 220h160v-160H400v160ZM180-400h160v-160H180v160Zm440 0h160v-160H620v160ZM180-180h160v-160H180v160Zm440 0h160v-160H620v160Z\"/>\n",
              "  </svg>\n",
              "    </button>\n",
              "\n",
              "  <style>\n",
              "    .colab-df-container {\n",
              "      display:flex;\n",
              "      gap: 12px;\n",
              "    }\n",
              "\n",
              "    .colab-df-convert {\n",
              "      background-color: #E8F0FE;\n",
              "      border: none;\n",
              "      border-radius: 50%;\n",
              "      cursor: pointer;\n",
              "      display: none;\n",
              "      fill: #1967D2;\n",
              "      height: 32px;\n",
              "      padding: 0 0 0 0;\n",
              "      width: 32px;\n",
              "    }\n",
              "\n",
              "    .colab-df-convert:hover {\n",
              "      background-color: #E2EBFA;\n",
              "      box-shadow: 0px 1px 2px rgba(60, 64, 67, 0.3), 0px 1px 3px 1px rgba(60, 64, 67, 0.15);\n",
              "      fill: #174EA6;\n",
              "    }\n",
              "\n",
              "    .colab-df-buttons div {\n",
              "      margin-bottom: 4px;\n",
              "    }\n",
              "\n",
              "    [theme=dark] .colab-df-convert {\n",
              "      background-color: #3B4455;\n",
              "      fill: #D2E3FC;\n",
              "    }\n",
              "\n",
              "    [theme=dark] .colab-df-convert:hover {\n",
              "      background-color: #434B5C;\n",
              "      box-shadow: 0px 1px 3px 1px rgba(0, 0, 0, 0.15);\n",
              "      filter: drop-shadow(0px 1px 2px rgba(0, 0, 0, 0.3));\n",
              "      fill: #FFFFFF;\n",
              "    }\n",
              "  </style>\n",
              "\n",
              "    <script>\n",
              "      const buttonEl =\n",
              "        document.querySelector('#df-d0ab03ab-9506-48ab-8cc2-7e39275421c7 button.colab-df-convert');\n",
              "      buttonEl.style.display =\n",
              "        google.colab.kernel.accessAllowed ? 'block' : 'none';\n",
              "\n",
              "      async function convertToInteractive(key) {\n",
              "        const element = document.querySelector('#df-d0ab03ab-9506-48ab-8cc2-7e39275421c7');\n",
              "        const dataTable =\n",
              "          await google.colab.kernel.invokeFunction('convertToInteractive',\n",
              "                                                    [key], {});\n",
              "        if (!dataTable) return;\n",
              "\n",
              "        const docLinkHtml = 'Like what you see? Visit the ' +\n",
              "          '<a target=\"_blank\" href=https://colab.research.google.com/notebooks/data_table.ipynb>data table notebook</a>'\n",
              "          + ' to learn more about interactive tables.';\n",
              "        element.innerHTML = '';\n",
              "        dataTable['output_type'] = 'display_data';\n",
              "        await google.colab.output.renderOutput(dataTable, element);\n",
              "        const docLink = document.createElement('div');\n",
              "        docLink.innerHTML = docLinkHtml;\n",
              "        element.appendChild(docLink);\n",
              "      }\n",
              "    </script>\n",
              "  </div>\n",
              "\n",
              "\n",
              "<div id=\"df-ff8c69c9-ccb7-4d8b-bce0-f89d246cd12e\">\n",
              "  <button class=\"colab-df-quickchart\" onclick=\"quickchart('df-ff8c69c9-ccb7-4d8b-bce0-f89d246cd12e')\"\n",
              "            title=\"Suggest charts\"\n",
              "            style=\"display:none;\">\n",
              "\n",
              "<svg xmlns=\"http://www.w3.org/2000/svg\" height=\"24px\"viewBox=\"0 0 24 24\"\n",
              "     width=\"24px\">\n",
              "    <g>\n",
              "        <path d=\"M19 3H5c-1.1 0-2 .9-2 2v14c0 1.1.9 2 2 2h14c1.1 0 2-.9 2-2V5c0-1.1-.9-2-2-2zM9 17H7v-7h2v7zm4 0h-2V7h2v10zm4 0h-2v-4h2v4z\"/>\n",
              "    </g>\n",
              "</svg>\n",
              "  </button>\n",
              "\n",
              "<style>\n",
              "  .colab-df-quickchart {\n",
              "      --bg-color: #E8F0FE;\n",
              "      --fill-color: #1967D2;\n",
              "      --hover-bg-color: #E2EBFA;\n",
              "      --hover-fill-color: #174EA6;\n",
              "      --disabled-fill-color: #AAA;\n",
              "      --disabled-bg-color: #DDD;\n",
              "  }\n",
              "\n",
              "  [theme=dark] .colab-df-quickchart {\n",
              "      --bg-color: #3B4455;\n",
              "      --fill-color: #D2E3FC;\n",
              "      --hover-bg-color: #434B5C;\n",
              "      --hover-fill-color: #FFFFFF;\n",
              "      --disabled-bg-color: #3B4455;\n",
              "      --disabled-fill-color: #666;\n",
              "  }\n",
              "\n",
              "  .colab-df-quickchart {\n",
              "    background-color: var(--bg-color);\n",
              "    border: none;\n",
              "    border-radius: 50%;\n",
              "    cursor: pointer;\n",
              "    display: none;\n",
              "    fill: var(--fill-color);\n",
              "    height: 32px;\n",
              "    padding: 0;\n",
              "    width: 32px;\n",
              "  }\n",
              "\n",
              "  .colab-df-quickchart:hover {\n",
              "    background-color: var(--hover-bg-color);\n",
              "    box-shadow: 0 1px 2px rgba(60, 64, 67, 0.3), 0 1px 3px 1px rgba(60, 64, 67, 0.15);\n",
              "    fill: var(--button-hover-fill-color);\n",
              "  }\n",
              "\n",
              "  .colab-df-quickchart-complete:disabled,\n",
              "  .colab-df-quickchart-complete:disabled:hover {\n",
              "    background-color: var(--disabled-bg-color);\n",
              "    fill: var(--disabled-fill-color);\n",
              "    box-shadow: none;\n",
              "  }\n",
              "\n",
              "  .colab-df-spinner {\n",
              "    border: 2px solid var(--fill-color);\n",
              "    border-color: transparent;\n",
              "    border-bottom-color: var(--fill-color);\n",
              "    animation:\n",
              "      spin 1s steps(1) infinite;\n",
              "  }\n",
              "\n",
              "  @keyframes spin {\n",
              "    0% {\n",
              "      border-color: transparent;\n",
              "      border-bottom-color: var(--fill-color);\n",
              "      border-left-color: var(--fill-color);\n",
              "    }\n",
              "    20% {\n",
              "      border-color: transparent;\n",
              "      border-left-color: var(--fill-color);\n",
              "      border-top-color: var(--fill-color);\n",
              "    }\n",
              "    30% {\n",
              "      border-color: transparent;\n",
              "      border-left-color: var(--fill-color);\n",
              "      border-top-color: var(--fill-color);\n",
              "      border-right-color: var(--fill-color);\n",
              "    }\n",
              "    40% {\n",
              "      border-color: transparent;\n",
              "      border-right-color: var(--fill-color);\n",
              "      border-top-color: var(--fill-color);\n",
              "    }\n",
              "    60% {\n",
              "      border-color: transparent;\n",
              "      border-right-color: var(--fill-color);\n",
              "    }\n",
              "    80% {\n",
              "      border-color: transparent;\n",
              "      border-right-color: var(--fill-color);\n",
              "      border-bottom-color: var(--fill-color);\n",
              "    }\n",
              "    90% {\n",
              "      border-color: transparent;\n",
              "      border-bottom-color: var(--fill-color);\n",
              "    }\n",
              "  }\n",
              "</style>\n",
              "\n",
              "  <script>\n",
              "    async function quickchart(key) {\n",
              "      const quickchartButtonEl =\n",
              "        document.querySelector('#' + key + ' button');\n",
              "      quickchartButtonEl.disabled = true;  // To prevent multiple clicks.\n",
              "      quickchartButtonEl.classList.add('colab-df-spinner');\n",
              "      try {\n",
              "        const charts = await google.colab.kernel.invokeFunction(\n",
              "            'suggestCharts', [key], {});\n",
              "      } catch (error) {\n",
              "        console.error('Error during call to suggestCharts:', error);\n",
              "      }\n",
              "      quickchartButtonEl.classList.remove('colab-df-spinner');\n",
              "      quickchartButtonEl.classList.add('colab-df-quickchart-complete');\n",
              "    }\n",
              "    (() => {\n",
              "      let quickchartButtonEl =\n",
              "        document.querySelector('#df-ff8c69c9-ccb7-4d8b-bce0-f89d246cd12e button');\n",
              "      quickchartButtonEl.style.display =\n",
              "        google.colab.kernel.accessAllowed ? 'block' : 'none';\n",
              "    })();\n",
              "  </script>\n",
              "</div>\n",
              "\n",
              "    </div>\n",
              "  </div>\n"
            ],
            "application/vnd.google.colaboratory.intrinsic+json": {
              "type": "dataframe",
              "variable_name": "emissoes2010_2019_df",
              "summary": "{\n  \"name\": \"emissoes2010_2019_df\",\n  \"rows\": 81170,\n  \"fields\": [\n    {\n      \"column\": \"ano\",\n      \"properties\": {\n        \"dtype\": \"number\",\n        \"std\": 2,\n        \"min\": 2010,\n        \"max\": 2019,\n        \"num_unique_values\": 10,\n        \"samples\": [\n          2018,\n          2011,\n          2015\n        ],\n        \"semantic_type\": \"\",\n        \"description\": \"\"\n      }\n    },\n    {\n      \"column\": \"setor\",\n      \"properties\": {\n        \"dtype\": \"category\",\n        \"num_unique_values\": 5,\n        \"samples\": [\n          \"Energia\",\n          \"Res\\u00edduos \",\n          \"Mudan\\u00e7a de Uso da Terra e Floresta\"\n        ],\n        \"semantic_type\": \"\",\n        \"description\": \"\"\n      }\n    },\n    {\n      \"column\": \"processo_emissor\",\n      \"properties\": {\n        \"dtype\": \"category\",\n        \"num_unique_values\": 18,\n        \"samples\": [\n          \"Fermenta\\u00e7\\u00e3o Ent\\u00e9rica\",\n          \"Manejo de Dejetos Animais\",\n          \"Remo\\u00e7\\u00e3o por Vegeta\\u00e7\\u00e3o Secund\\u00e1ria\"\n        ],\n        \"semantic_type\": \"\",\n        \"description\": \"\"\n      }\n    },\n    {\n      \"column\": \"forma_emissao\",\n      \"properties\": {\n        \"dtype\": \"category\",\n        \"num_unique_values\": 61,\n        \"samples\": [\n          \"Diretas\",\n          \"Gera\\u00e7\\u00e3o de Eletricidade (Servi\\u00e7o P\\u00fablico)\",\n          \"Produ\\u00e7\\u00e3o de Cal\"\n        ],\n        \"semantic_type\": \"\",\n        \"description\": \"\"\n      }\n    },\n    {\n      \"column\": \"processo_especifico\",\n      \"properties\": {\n        \"dtype\": \"category\",\n        \"num_unique_values\": 56,\n        \"samples\": [\n          \"Outros\",\n          \"Solos org\\u00e2nicos\",\n          \"Cal Calc\\u00edtica\"\n        ],\n        \"semantic_type\": \"\",\n        \"description\": \"\"\n      }\n    },\n    {\n      \"column\": \"tipo_atividade\",\n      \"properties\": {\n        \"dtype\": \"category\",\n        \"num_unique_values\": 62,\n        \"samples\": [\n          \"Consumo de Combust\\u00edveis F\\u00f3sseis\",\n          \"N\\u00c3O SE APLICA \",\n          \"Animal\"\n        ],\n        \"semantic_type\": \"\",\n        \"description\": \"\"\n      }\n    },\n    {\n      \"column\": \"atividade_especifica\",\n      \"properties\": {\n        \"dtype\": \"category\",\n        \"num_unique_values\": 66,\n        \"samples\": [\n          \"Uso agropecu\\u00e1rio -- \\u00c1rea sem vegeta\\u00e7\\u00e3o\",\n          \"\\u00c1rea sem vegeta\\u00e7\\u00e3o -- Silvicultura\",\n          \"Asinino\"\n        ],\n        \"semantic_type\": \"\",\n        \"description\": \"\"\n      }\n    },\n    {\n      \"column\": \"tipo_emissao\",\n      \"properties\": {\n        \"dtype\": \"category\",\n        \"num_unique_values\": 5,\n        \"samples\": [\n          \"Emiss\\u00e3o NCI\",\n          \"Remo\\u00e7\\u00e3o\",\n          \"Bunker\"\n        ],\n        \"semantic_type\": \"\",\n        \"description\": \"\"\n      }\n    },\n    {\n      \"column\": \"gas\",\n      \"properties\": {\n        \"dtype\": \"category\",\n        \"num_unique_values\": 22,\n        \"samples\": [\n          \"CH4 (t)\",\n          \"HFC-125 (t)\",\n          \"CO (t)\"\n        ],\n        \"semantic_type\": \"\",\n        \"description\": \"\"\n      }\n    },\n    {\n      \"column\": \"atividade_economica\",\n      \"properties\": {\n        \"dtype\": \"category\",\n        \"num_unique_values\": 16,\n        \"samples\": [\n          \"PEC\",\n          \"AGR\",\n          \"COM\"\n        ],\n        \"semantic_type\": \"\",\n        \"description\": \"\"\n      }\n    },\n    {\n      \"column\": \"emissao\",\n      \"properties\": {\n        \"dtype\": \"number\",\n        \"std\": 21246626.109437305,\n        \"min\": 0.0,\n        \"max\": 743000000.0,\n        \"num_unique_values\": 34244,\n        \"samples\": [\n          1859615.6,\n          0.81615094,\n          1.718876\n        ],\n        \"semantic_type\": \"\",\n        \"description\": \"\"\n      }\n    }\n  ]\n}"
            }
          },
          "metadata": {},
          "execution_count": 172
        }
      ]
    },
    {
      "cell_type": "markdown",
      "source": [
        "#**Análises:**\n"
      ],
      "metadata": {
        "id": "bAweJtQUL6Aq"
      }
    },
    {
      "cell_type": "markdown",
      "source": [
        "* Qual setor foi o responsável pelo maior emissão de gases nesse período?"
      ],
      "metadata": {
        "id": "WTXS-VoCL_9p"
      }
    },
    {
      "cell_type": "code",
      "source": [
        "emissoes_setor = emissoes2010_2019_df.groupby('setor')['emissao'].sum().reset_index()\n",
        "emissoes_setor = emissoes_setor.sort_values(by = 'emissao', ascending= False)\n",
        "setor_maximo = emissoes_setor.iloc[0]\n",
        "print(f'O setor com maior emissão de gases do efeito estufa foi {setor_maximo[\"setor\"]} com um total de emissões de {setor_maximo[\"emissao\"]}.')"
      ],
      "metadata": {
        "colab": {
          "base_uri": "https://localhost:8080/"
        },
        "id": "gWwpZ8S1N-_R",
        "outputId": "b389d0ef-f6e2-4e96-be96-ade01101de0b"
      },
      "execution_count": null,
      "outputs": [
        {
          "output_type": "stream",
          "name": "stdout",
          "text": [
            "O setor com maior emissão de gases do efeito estufa foi Mudança de Uso da Terra e Floresta com um total de emissões de 110621101590.1922.\n"
          ]
        }
      ]
    },
    {
      "cell_type": "markdown",
      "source": [
        "Segundo o Portal Unicamp  \"o uso da terra e sua mudança podem atuar como fonte de emissões e, ao mesmo tempo, como sumidouros de carbono. Estima-se que algo em torno de um quinto das emissões globais de carbono sejam derivadas de atividades relacionadas com o uso da terra (desmatamento, queimadas etc)\"."
      ],
      "metadata": {
        "id": "e5gA_aImSFR5"
      }
    },
    {
      "cell_type": "code",
      "source": [
        "print('Os demais setores apresentaram tais valores: ')\n",
        "print(emissoes_setor[1:])"
      ],
      "metadata": {
        "colab": {
          "base_uri": "https://localhost:8080/"
        },
        "id": "5YvyXTwDQYeA",
        "outputId": "b46644df-b944-4f6e-bdeb-f3ccc9b4a488"
      },
      "execution_count": null,
      "outputs": [
        {
          "output_type": "stream",
          "name": "stdout",
          "text": [
            "Os demais setores apresentaram tais valores: \n",
            "                   setor       emissao\n",
            "1                Energia  3.039714e+10\n",
            "0           Agropecuária  2.920062e+10\n",
            "3  Processos Industriais  6.504194e+09\n",
            "4              Resíduos   2.885594e+09\n"
          ]
        }
      ]
    },
    {
      "cell_type": "code",
      "source": [
        "plt.figure(figsize = (12,6))\n",
        "sns.set_theme(style=\"whitegrid\")\n",
        "sns.barplot(x = 'setor', y = 'emissao', data = emissoes_setor, palette = 'hls')\n",
        "plt.title('Total de emissões (2010 a 2019)')\n",
        "plt.xlabel('Setor')\n",
        "plt.ylabel('Total')\n",
        "plt.xticks(rotation=45)\n",
        "plt.show()"
      ],
      "metadata": {
        "colab": {
          "base_uri": "https://localhost:8080/",
          "height": 854
        },
        "id": "RGBUynkFQuKk",
        "outputId": "a07b8de3-9c7d-49ee-9f6b-b7f2cf4485c8"
      },
      "execution_count": null,
      "outputs": [
        {
          "output_type": "stream",
          "name": "stderr",
          "text": [
            "<ipython-input-120-eb2637d1fea8>:3: FutureWarning: \n",
            "\n",
            "Passing `palette` without assigning `hue` is deprecated and will be removed in v0.14.0. Assign the `x` variable to `hue` and set `legend=False` for the same effect.\n",
            "\n",
            "  sns.barplot(x = 'setor', y = 'emissao', data = emissoes_setor, palette = 'hls')\n"
          ]
        },
        {
          "output_type": "display_data",
          "data": {
            "text/plain": [
              "<Figure size 1200x600 with 1 Axes>"
            ],
            "image/png": "[encoded data removed]"
          },
          "metadata": {}
        }
      ]
    },
    {
      "cell_type": "markdown",
      "source": [
        "* Principais processos emissores e atividades específicas dentro do setor de Mudança de Uso da Terra e Flores"
      ],
      "metadata": {
        "id": "KpJNZGjWXawx"
      }
    },
    {
      "cell_type": "markdown",
      "source": [
        "Processos emissores:"
      ],
      "metadata": {
        "id": "VZL306irZPhs"
      }
    },
    {
      "cell_type": "code",
      "source": [
        "emissoes_mudanca_terra = emissoes2010_2019_df[emissoes2010_2019_df['setor'] == 'Mudança de Uso da Terra e Floresta']\n",
        "processos_emissores = emissoes_mudanca_terra.groupby('processo_emissor')['emissao'].sum().reset_index()\n",
        "processos_emissores = processos_emissores.sort_values(by = 'emissao', ascending= False)\n",
        "print(processos_emissores)"
      ],
      "metadata": {
        "colab": {
          "base_uri": "https://localhost:8080/"
        },
        "id": "PFacT34JXi7G",
        "outputId": "5bea048c-8645-4983-c6b4-c883643883c1"
      },
      "execution_count": null,
      "outputs": [
        {
          "output_type": "stream",
          "name": "stdout",
          "text": [
            "                      processo_emissor       emissao\n",
            "0            Alterações de Uso do Solo  1.061937e+11\n",
            "3                  Resíduos Florestais  4.427386e+09\n",
            "1  Remoção por Mudança de Uso da Terra  0.000000e+00\n",
            "2     Remoção por Vegetação Secundária  0.000000e+00\n"
          ]
        }
      ]
    },
    {
      "cell_type": "markdown",
      "source": [
        "Top 3 atividades específicas dentro do setor:"
      ],
      "metadata": {
        "id": "5iDC2WG3Yxnd"
      }
    },
    {
      "cell_type": "code",
      "source": [
        "atividades_especificas = emissoes_mudanca_terra.groupby('atividade_especifica')['emissao'].sum().reset_index()\n",
        "atividades_especificas = atividades_especificas.sort_values(by = 'emissao', ascending= False)\n",
        "print(atividades_especificas[0:3])"
      ],
      "metadata": {
        "colab": {
          "base_uri": "https://localhost:8080/"
        },
        "id": "bqjr2G1fYM0U",
        "outputId": "f678cf5b-3f25-4768-831c-d8540db5bad7"
      },
      "execution_count": null,
      "outputs": [
        {
          "output_type": "stream",
          "name": "stdout",
          "text": [
            "                      atividade_especifica       emissao\n",
            "6                            NÃO SE APLICA  6.169377e+10\n",
            "1    Floresta primária -- Uso agropecuário  4.057746e+10\n",
            "4  Floresta secundária -- Uso agropecuário  3.400380e+09\n"
          ]
        }
      ]
    },
    {
      "cell_type": "markdown",
      "source": [
        "Observa-se que as 3 principais atividades específicas dentro do setor de mudança do uso da terra estão relacionados ao uso de floresta primária e secundária pela agropecuária."
      ],
      "metadata": {
        "id": "ZbtGehDoY8Sm"
      }
    },
    {
      "cell_type": "markdown",
      "source": [
        "Principal atividade econômica dentro do setor:"
      ],
      "metadata": {
        "id": "nqLzWYkqgDhr"
      }
    },
    {
      "cell_type": "code",
      "source": [
        "atividades_economicas = emissoes_mudanca_terra.groupby('atividade_economica')['emissao'].sum().reset_index()\n",
        "atividades_economicas = atividades_economicas.sort_values(by = 'emissao', ascending= False)\n",
        "print(atividades_economicas.iloc[0])"
      ],
      "metadata": {
        "colab": {
          "base_uri": "https://localhost:8080/"
        },
        "id": "9lmi2A1NgHvS",
        "outputId": "666307ae-fcbc-4a50-849b-38c86e1a28c3"
      },
      "execution_count": null,
      "outputs": [
        {
          "output_type": "stream",
          "name": "stdout",
          "text": [
            "atividade_economica              AGROPEC\n",
            "emissao                110621101590.1922\n",
            "Name: 0, dtype: object\n"
          ]
        }
      ]
    },
    {
      "cell_type": "markdown",
      "source": [
        "* Qual processo emissor foi o responsável pela maior emissão de gases nesse período?"
      ],
      "metadata": {
        "id": "fFXi7OzAMImZ"
      }
    },
    {
      "cell_type": "code",
      "source": [
        "processo_emissor_2010_2019 = emissoes2010_2019_df.groupby('processo_emissor')['emissao'].sum().reset_index()\n",
        "processo_emissor_2010_2019 = processo_emissor_2010_2019.sort_values(by='emissao', ascending= False)\n",
        "processo_emissor_maior = processo_emissor_2010_2019.iloc[0]\n",
        "print(f'O processo com maior emissão de gases do efeito estufa foi {processo_emissor_maior[\"processo_emissor\"]} com um total de emissões de {processo_emissor_maior[\"emissao\"]}.')"
      ],
      "metadata": {
        "colab": {
          "base_uri": "https://localhost:8080/"
        },
        "id": "kkr53uidgouz",
        "outputId": "f3c919d0-07be-4e5b-a435-d24497550dfe"
      },
      "execution_count": null,
      "outputs": [
        {
          "output_type": "stream",
          "name": "stdout",
          "text": [
            "O processo com maior emissão de gases do efeito estufa foi Alterações de Uso do Solo com um total de emissões de 106193715949.3.\n"
          ]
        }
      ]
    },
    {
      "cell_type": "code",
      "source": [
        "print('Os demais processos apresentaram tais valores:')\n",
        "print(processo_emissor_2010_2019[1:])"
      ],
      "metadata": {
        "colab": {
          "base_uri": "https://localhost:8080/"
        },
        "id": "vma_33OshTWn",
        "outputId": "ba82a74a-d721-4b10-c73e-fdf9c9bcb64b"
      },
      "execution_count": null,
      "outputs": [
        {
          "output_type": "stream",
          "name": "stdout",
          "text": [
            "Os demais processos apresentaram tais valores:\n",
            "                                     processo_emissor       emissao\n",
            "4                Emissões pela Queima de Combustíveis  2.902945e+10\n",
            "15                                    Solos Manejados  1.656398e+10\n",
            "5                                Fermentação Entérica  1.160393e+10\n",
            "13                                Resíduos Florestais  4.427386e+09\n",
            "9                                  Produção de Metais  3.521855e+09\n",
            "8                                   Produtos Minerais  2.058770e+09\n",
            "14                                   Resíduos Sólidos  1.861889e+09\n",
            "2                                  Emissões Fugitivas  1.367695e+09\n",
            "1                                  Efluentes Liquidos  1.023705e+09\n",
            "7                           Manejo de Dejetos Animais  7.693210e+08\n",
            "3                                    Emissões de HFCs  5.674041e+08\n",
            "10                       Queima de Resíduos Agrícolas  2.633890e+08\n",
            "6                                   Indústria Química  2.443824e+08\n",
            "16  Uso Não-Energético de Combustíveis e Uso de So...  9.607323e+07\n",
            "17                                         Uso de SF6  1.570881e+07\n",
            "11                Remoção por Mudança de Uso da Terra  0.000000e+00\n",
            "12                   Remoção por Vegetação Secundária  0.000000e+00\n"
          ]
        }
      ]
    },
    {
      "cell_type": "markdown",
      "source": [
        "* Avaliar o top 10 de total de emissão por forma de emissão"
      ],
      "metadata": {
        "id": "3G86d-pVMRXB"
      }
    },
    {
      "cell_type": "code",
      "source": [
        "total_emissoes_forma = emissoes2010_2019_df.groupby('forma_emissao')['emissao'].sum().reset_index()\n",
        "total_emissoes_forma = total_emissoes_forma.sort_values(by='emissao', ascending = False)\n",
        "print(total_emissoes_forma[0:10])"
      ],
      "metadata": {
        "colab": {
          "base_uri": "https://localhost:8080/"
        },
        "id": "GAb5tYRyiGYR",
        "outputId": "e9b0dbe7-7e6e-414c-d0ab-b1d31067bcb4"
      },
      "execution_count": null,
      "outputs": [
        {
          "output_type": "stream",
          "name": "stdout",
          "text": [
            "                                forma_emissao       emissao\n",
            "1                                    Amazônia  7.117611e+10\n",
            "7                                     Diretas  2.775077e+10\n",
            "3                                     Cerrado  2.031222e+10\n",
            "59                                Transportes  1.527565e+10\n",
            "19                                      Pampa  7.554298e+09\n",
            "16                             Mata Atlântica  5.227664e+09\n",
            "15                                 Industrial  5.154751e+09\n",
            "2                                    Caatinga  4.465999e+09\n",
            "32                   Produção de Combustíveis  3.845178e+09\n",
            "12  Geração de Eletricidade (Serviço Público)  3.063276e+09\n"
          ]
        }
      ]
    },
    {
      "cell_type": "code",
      "source": [
        "plt.figure(figsize = (18,8))\n",
        "sns.set_theme(style=\"whitegrid\")\n",
        "sns.barplot(y = 'forma_emissao', x = 'emissao', data = total_emissoes_forma[0:10], palette = 'hls')\n",
        "plt.title('Total de emissões (2010 a 2019)')\n",
        "plt.xlabel('Total')\n",
        "plt.ylabel('')\n",
        "plt.xticks(rotation=45)\n",
        "plt.show()"
      ],
      "metadata": {
        "colab": {
          "base_uri": "https://localhost:8080/",
          "height": 678
        },
        "id": "57QrUB4iiv_B",
        "outputId": "61746352-c45f-4455-ee0f-41ac25d14151"
      },
      "execution_count": null,
      "outputs": [
        {
          "output_type": "stream",
          "name": "stderr",
          "text": [
            "<ipython-input-148-3ca01536d378>:3: FutureWarning: \n",
            "\n",
            "Passing `palette` without assigning `hue` is deprecated and will be removed in v0.14.0. Assign the `y` variable to `hue` and set `legend=False` for the same effect.\n",
            "\n",
            "  sns.barplot(y = 'forma_emissao', x = 'emissao', data = total_emissoes_forma[0:10], palette = 'hls')\n"
          ]
        },
        {
          "output_type": "display_data",
          "data": {
            "text/plain": [
              "<Figure size 1800x800 with 1 Axes>"
            ],
            "image/png": "[encoded data removed]"
          },
          "metadata": {}
        }
      ]
    },
    {
      "cell_type": "markdown",
      "source": [
        "* Total de emissão por tipo de atividade"
      ],
      "metadata": {
        "id": "_o4JTP54odkW"
      }
    },
    {
      "cell_type": "code",
      "source": [
        "emissoes_tipo_atividade = emissoes2010_2019_df.groupby('tipo_atividade')['emissao'].sum().reset_index()\n",
        "emissoes_tipo_atividade = emissoes_tipo_atividade.sort_values(by='emissao', ascending = False)\n",
        "top3_tipo_atividade = emissoes_tipo_atividade[0:3]\n",
        "print(top3_tipo_atividade)"
      ],
      "metadata": {
        "id": "bb7ym5QdohWI",
        "colab": {
          "base_uri": "https://localhost:8080/"
        },
        "outputId": "43f3a778-c702-455c-efba-e2a746ba7ae5"
      },
      "execution_count": null,
      "outputs": [
        {
          "output_type": "stream",
          "name": "stdout",
          "text": [
            "   tipo_atividade       emissao\n",
            "21   Desmatamento  1.057621e+11\n",
            "1          Animal  1.643399e+10\n",
            "57        Vegetal  1.042996e+10\n"
          ]
        }
      ]
    },
    {
      "cell_type": "code",
      "source": [
        "plt.figure(figsize = (12,6))\n",
        "sns.set_theme(style=\"whitegrid\")\n",
        "sns.barplot(x = 'tipo_atividade', y = 'emissao', data = top3_tipo_atividade, palette = 'hls')\n",
        "plt.title('Total de emissões (2010 a 2019)')\n",
        "plt.xlabel('Atividade')\n",
        "plt.ylabel('Total')\n",
        "plt.xticks(rotation=45)\n",
        "plt.show()"
      ],
      "metadata": {
        "colab": {
          "base_uri": "https://localhost:8080/",
          "height": 744
        },
        "id": "sHFCyrg6qL8U",
        "outputId": "6e38cd9e-3145-44e7-9a50-18db4f43b261"
      },
      "execution_count": null,
      "outputs": [
        {
          "output_type": "stream",
          "name": "stderr",
          "text": [
            "<ipython-input-177-1ee680388cbf>:3: FutureWarning: \n",
            "\n",
            "Passing `palette` without assigning `hue` is deprecated and will be removed in v0.14.0. Assign the `x` variable to `hue` and set `legend=False` for the same effect.\n",
            "\n",
            "  sns.barplot(x = 'tipo_atividade', y = 'emissao', data = top3_tipo_atividade, palette = 'hls')\n"
          ]
        },
        {
          "output_type": "display_data",
          "data": {
            "text/plain": [
              "<Figure size 1200x600 with 1 Axes>"
            ],
            "image/png": "[encoded data removed]"
          },
          "metadata": {}
        }
      ]
    },
    {
      "cell_type": "markdown",
      "source": [
        "* Quais foram os 10 gases mais emitidos nesse período?"
      ],
      "metadata": {
        "id": "bl-xLZOYMiFZ"
      }
    },
    {
      "cell_type": "code",
      "source": [
        "gases_total_emissoes = emissoes2010_2019_df.groupby('gas')['emissao'].sum().reset_index()\n",
        "gases_total_emissoes = gases_total_emissoes.sort_values(by='emissao', ascending= False)\n",
        "gases_top10 = gases_total_emissoes[0:10]\n",
        "print(gases_top10)"
      ],
      "metadata": {
        "colab": {
          "base_uri": "https://localhost:8080/"
        },
        "id": "6WlpOPN5julj",
        "outputId": "209635f1-ca9d-4a98-89bc-d58b1b1bc236"
      },
      "execution_count": null,
      "outputs": [
        {
          "output_type": "stream",
          "name": "stdout",
          "text": [
            "                 gas       emissao\n",
            "10  CO2e (t) GWP-AR5  2.909567e+10\n",
            "9   CO2e (t) GWP-AR4  2.861320e+10\n",
            "8   CO2e (t) GWP-AR2  2.784800e+10\n",
            "5   CO2e (t) GTP-AR2  2.419609e+10\n",
            "6   CO2e (t) GTP-AR4  2.419609e+10\n",
            "7   CO2e (t) GTP-AR5  2.376743e+10\n",
            "4            CO2 (t)  2.146448e+10\n",
            "2            CH4 (t)  2.064215e+08\n",
            "3             CO (t)  1.258453e+08\n",
            "11         COVNM (t)  5.697538e+07\n"
          ]
        }
      ]
    },
    {
      "cell_type": "code",
      "source": [
        "plt.figure(figsize = (12,6))\n",
        "sns.set_theme(style=\"whitegrid\")\n",
        "sns.barplot(x = 'gas', y = 'emissao', data = gases_top10, palette = 'hls')\n",
        "plt.title('Total de emissões (2010 a 2019)')\n",
        "plt.xlabel('Gás')\n",
        "plt.ylabel('Total')\n",
        "plt.xticks(rotation=45)\n",
        "plt.show()"
      ],
      "metadata": {
        "colab": {
          "base_uri": "https://localhost:8080/",
          "height": 760
        },
        "id": "8dPRjxRekctK",
        "outputId": "13a68e34-4ee9-4470-f3e4-7ae9ea61eb00"
      },
      "execution_count": null,
      "outputs": [
        {
          "output_type": "stream",
          "name": "stderr",
          "text": [
            "<ipython-input-151-c9538cee48f7>:3: FutureWarning: \n",
            "\n",
            "Passing `palette` without assigning `hue` is deprecated and will be removed in v0.14.0. Assign the `x` variable to `hue` and set `legend=False` for the same effect.\n",
            "\n",
            "  sns.barplot(x = 'gas', y = 'emissao', data = gases_top10, palette = 'hls')\n"
          ]
        },
        {
          "output_type": "display_data",
          "data": {
            "text/plain": [
              "<Figure size 1200x600 with 1 Axes>"
            ],
            "image/png": "[encoded data removed]"
          },
          "metadata": {}
        }
      ]
    },
    {
      "cell_type": "markdown",
      "source": [
        "* Média de emissões por ano para o gás CO2et GWP-AR5"
      ],
      "metadata": {
        "id": "iFUxc-k2XIXO"
      }
    },
    {
      "cell_type": "code",
      "source": [
        "gas_co2 = emissoes2010_2019_df[emissoes2010_2019_df['gas'] == 'CO2e (t) GWP-AR5']\n",
        "media_gasco2 = gas_co2.groupby('ano')['emissao'].mean().reset_index()\n",
        "print(media_gasco2)"
      ],
      "metadata": {
        "colab": {
          "base_uri": "https://localhost:8080/"
        },
        "id": "TU5QhSN3lebH",
        "outputId": "329cc717-5169-4bb0-afce-a2fce42dbcb7"
      },
      "execution_count": null,
      "outputs": [
        {
          "output_type": "stream",
          "name": "stdout",
          "text": [
            "    ano       emissao\n",
            "0  2010  3.084778e+06\n",
            "1  2011  3.085091e+06\n",
            "2  2012  3.147101e+06\n",
            "3  2013  3.483735e+06\n",
            "4  2014  3.364798e+06\n",
            "5  2015  3.467646e+06\n",
            "6  2016  3.617040e+06\n",
            "7  2017  3.485310e+06\n",
            "8  2018  3.374883e+06\n",
            "9  2019  3.905184e+06\n"
          ]
        }
      ]
    },
    {
      "cell_type": "code",
      "source": [
        "sns.set_theme(style=\"whitegrid\")\n",
        "plt.figure(figsize = (16,8))\n",
        "sns.lineplot(x=\"ano\", y=\"emissao\", data= media_gasco2)\n",
        "plt.title('Média de emissão (2010 a 2019)')\n",
        "plt.xticks(media_gasco2['ano'])\n",
        "plt.xlabel('Ano')\n",
        "plt.ylabel('Média de Emissão')\n",
        "plt.xticks(rotation=45)\n",
        "plt.ylim(0, None)\n",
        "plt.show()"
      ],
      "metadata": {
        "colab": {
          "base_uri": "https://localhost:8080/",
          "height": 750
        },
        "id": "xWJfOAVEmA0Q",
        "outputId": "a554f848-acb2-4c08-b57d-61dd8c21fd2e"
      },
      "execution_count": null,
      "outputs": [
        {
          "output_type": "display_data",
          "data": {
            "text/plain": [
              "<Figure size 1600x800 with 1 Axes>"
            ],
            "image/png": "[encoded data removed]"
          },
          "metadata": {}
        }
      ]
    },
    {
      "cell_type": "markdown",
      "source": [
        "Observa-se que a média de emissões para esse gás aumentou de 2010 a 2019, oscilou em alguns anos, como, por exemplo, no ano de 2018 houve uma redução em relação a 2017, contudo, o valor aumentou em 2019, atigindo a maior média registrada no período analisado."
      ],
      "metadata": {
        "id": "bREcZMpmmwUK"
      }
    },
    {
      "cell_type": "markdown",
      "source": [
        "* Análise de série temporal com o total de emissões por ano"
      ],
      "metadata": {
        "id": "W6CCYZobMwZb"
      }
    },
    {
      "cell_type": "code",
      "source": [
        "emissoes_total_anual = emissoes2010_2019_df.groupby('ano')['emissao'].sum().reset_index()\n",
        "print(emissoes_total_anual)"
      ],
      "metadata": {
        "colab": {
          "base_uri": "https://localhost:8080/"
        },
        "id": "4wbJb7kaXHdl",
        "outputId": "b7c4a724-eadd-4cc3-bd33-6ce5bcbb4fb3"
      },
      "execution_count": null,
      "outputs": [
        {
          "output_type": "stream",
          "name": "stdout",
          "text": [
            "    ano       emissao\n",
            "0  2010  1.606262e+10\n",
            "1  2011  1.610308e+10\n",
            "2  2012  1.644472e+10\n",
            "3  2013  1.841354e+10\n",
            "4  2014  1.773006e+10\n",
            "5  2015  1.825077e+10\n",
            "6  2016  1.905220e+10\n",
            "7  2017  1.837820e+10\n",
            "8  2018  1.778087e+10\n",
            "9  2019  2.139260e+10\n"
          ]
        }
      ]
    },
    {
      "cell_type": "code",
      "source": [
        "sns.set_theme(style=\"whitegrid\")\n",
        "plt.figure(figsize = (16,8))\n",
        "sns.lineplot(x=\"ano\", y=\"emissao\", data= emissoes_total_anual)\n",
        "plt.title('Total de emissões (2010 a 2019)')\n",
        "plt.xticks(emissoes_total_anual['ano'])\n",
        "plt.xlabel('Ano')\n",
        "plt.ylabel('Total')\n",
        "plt.xticks(rotation=45)\n",
        "plt.ylim(0, None)\n",
        "plt.show()"
      ],
      "metadata": {
        "colab": {
          "base_uri": "https://localhost:8080/",
          "height": 750
        },
        "id": "ujWZi5IvnZPn",
        "outputId": "f7cfe761-247b-452b-fbec-bb51e15f2466"
      },
      "execution_count": null,
      "outputs": [
        {
          "output_type": "display_data",
          "data": {
            "text/plain": [
              "<Figure size 1600x800 with 1 Axes>"
            ],
            "image/png": "[encoded data removed]"
          },
          "metadata": {}
        }
      ]
    }
  ]
}